{
 "cells": [
  {
   "cell_type": "markdown",
   "id": "4fbad846",
   "metadata": {},
   "source": [
    "## Shopping mall project\n",
    "#### Clustering and identification of sales period and pattern"
   ]
  },
  {
   "cell_type": "markdown",
   "id": "d1ccbb03",
   "metadata": {},
   "source": [
    "## Importing the libraries"
   ]
  },
  {
   "cell_type": "code",
   "execution_count": 3,
   "id": "bff25e84",
   "metadata": {
    "scrolled": true
   },
   "outputs": [
    {
     "data": {
      "text/plain": [
       "'C:\\\\Users\\\\manas\\\\Downloads\\\\ML\\\\Project session by mithlesh sir\\\\Customer_Segmentation'"
      ]
     },
     "execution_count": 3,
     "metadata": {},
     "output_type": "execute_result"
    }
   ],
   "source": [
    "import pandas as pd\n",
    "import numpy as np\n",
    "import seaborn as sns\n",
    "import matplotlib.pyplot as plt\n",
    "%matplotlib inline  \n",
    "sns.set_style('darkgrid')\n",
    "\n",
    "import warnings\n",
    "warnings.filterwarnings('ignore')\n",
    "\n",
    "import os\n",
    "os.getcwd()"
   ]
  },
  {
   "cell_type": "markdown",
   "id": "b40a7197",
   "metadata": {},
   "source": [
    "## Importing the dataset"
   ]
  },
  {
   "cell_type": "code",
   "execution_count": 4,
   "id": "8b84d563",
   "metadata": {},
   "outputs": [
    {
     "data": {
      "text/html": [
       "<div>\n",
       "<style scoped>\n",
       "    .dataframe tbody tr th:only-of-type {\n",
       "        vertical-align: middle;\n",
       "    }\n",
       "\n",
       "    .dataframe tbody tr th {\n",
       "        vertical-align: top;\n",
       "    }\n",
       "\n",
       "    .dataframe thead th {\n",
       "        text-align: right;\n",
       "    }\n",
       "</style>\n",
       "<table border=\"1\" class=\"dataframe\">\n",
       "  <thead>\n",
       "    <tr style=\"text-align: right;\">\n",
       "      <th></th>\n",
       "      <th>InvoiceNo</th>\n",
       "      <th>StockCode</th>\n",
       "      <th>lower</th>\n",
       "      <th>Description</th>\n",
       "      <th>Quantity</th>\n",
       "      <th>InvoiceDate</th>\n",
       "      <th>UnitPrice</th>\n",
       "      <th>CustomerID</th>\n",
       "      <th>Country</th>\n",
       "    </tr>\n",
       "  </thead>\n",
       "  <tbody>\n",
       "    <tr>\n",
       "      <th>0</th>\n",
       "      <td>536365</td>\n",
       "      <td>85123A</td>\n",
       "      <td>white hanging heart t-light holder</td>\n",
       "      <td>WHITE HANGING HEART T-LIGHT HOLDER</td>\n",
       "      <td>6</td>\n",
       "      <td>2010-12-01 08:26:00</td>\n",
       "      <td>2.55</td>\n",
       "      <td>17850.0</td>\n",
       "      <td>United Kingdom</td>\n",
       "    </tr>\n",
       "    <tr>\n",
       "      <th>1</th>\n",
       "      <td>536365</td>\n",
       "      <td>71053</td>\n",
       "      <td>white metal lantern</td>\n",
       "      <td>WHITE METAL LANTERN</td>\n",
       "      <td>6</td>\n",
       "      <td>2010-12-01 08:26:00</td>\n",
       "      <td>3.39</td>\n",
       "      <td>17850.0</td>\n",
       "      <td>United Kingdom</td>\n",
       "    </tr>\n",
       "    <tr>\n",
       "      <th>2</th>\n",
       "      <td>536365</td>\n",
       "      <td>84406B</td>\n",
       "      <td>cream cupid hearts coat hanger</td>\n",
       "      <td>CREAM CUPID HEARTS COAT HANGER</td>\n",
       "      <td>8</td>\n",
       "      <td>2010-12-01 08:26:00</td>\n",
       "      <td>2.75</td>\n",
       "      <td>17850.0</td>\n",
       "      <td>United Kingdom</td>\n",
       "    </tr>\n",
       "    <tr>\n",
       "      <th>3</th>\n",
       "      <td>536365</td>\n",
       "      <td>84029G</td>\n",
       "      <td>knitted union flag hot water bottle</td>\n",
       "      <td>KNITTED UNION FLAG HOT WATER BOTTLE</td>\n",
       "      <td>6</td>\n",
       "      <td>2010-12-01 08:26:00</td>\n",
       "      <td>3.39</td>\n",
       "      <td>17850.0</td>\n",
       "      <td>United Kingdom</td>\n",
       "    </tr>\n",
       "    <tr>\n",
       "      <th>4</th>\n",
       "      <td>536365</td>\n",
       "      <td>84029E</td>\n",
       "      <td>red woolly hottie white heart.</td>\n",
       "      <td>RED WOOLLY HOTTIE WHITE HEART.</td>\n",
       "      <td>6</td>\n",
       "      <td>2010-12-01 08:26:00</td>\n",
       "      <td>3.39</td>\n",
       "      <td>17850.0</td>\n",
       "      <td>United Kingdom</td>\n",
       "    </tr>\n",
       "  </tbody>\n",
       "</table>\n",
       "</div>"
      ],
      "text/plain": [
       "  InvoiceNo StockCode                                lower  \\\n",
       "0    536365    85123A   white hanging heart t-light holder   \n",
       "1    536365     71053                  white metal lantern   \n",
       "2    536365    84406B       cream cupid hearts coat hanger   \n",
       "3    536365    84029G  knitted union flag hot water bottle   \n",
       "4    536365    84029E       red woolly hottie white heart.   \n",
       "\n",
       "                           Description  Quantity         InvoiceDate  \\\n",
       "0   WHITE HANGING HEART T-LIGHT HOLDER         6 2010-12-01 08:26:00   \n",
       "1                  WHITE METAL LANTERN         6 2010-12-01 08:26:00   \n",
       "2       CREAM CUPID HEARTS COAT HANGER         8 2010-12-01 08:26:00   \n",
       "3  KNITTED UNION FLAG HOT WATER BOTTLE         6 2010-12-01 08:26:00   \n",
       "4       RED WOOLLY HOTTIE WHITE HEART.         6 2010-12-01 08:26:00   \n",
       "\n",
       "   UnitPrice  CustomerID         Country  \n",
       "0       2.55     17850.0  United Kingdom  \n",
       "1       3.39     17850.0  United Kingdom  \n",
       "2       2.75     17850.0  United Kingdom  \n",
       "3       3.39     17850.0  United Kingdom  \n",
       "4       3.39     17850.0  United Kingdom  "
      ]
     },
     "execution_count": 4,
     "metadata": {},
     "output_type": "execute_result"
    }
   ],
   "source": [
    "customer_seg = pd.read_excel('Customer_Segment.xlsx')\n",
    "pd.set_option('display.max_columns',100)\n",
    "customer_seg.head()"
   ]
  },
  {
   "cell_type": "markdown",
   "id": "057b696a",
   "metadata": {},
   "source": [
    "## Problem statement\n",
    "  - Segment(Group/Cluster) customer on basis of buying pattern RFM(Recency,Frequency,Monetary)\n",
    "  - Sales Trends for Day,Seasons,time by invoice number\n",
    "  - Highest sale trend item wise"
   ]
  },
  {
   "cell_type": "code",
   "execution_count": 8,
   "id": "7f04e2bc",
   "metadata": {},
   "outputs": [
    {
     "data": {
      "text/html": [
       "<div>\n",
       "<style scoped>\n",
       "    .dataframe tbody tr th:only-of-type {\n",
       "        vertical-align: middle;\n",
       "    }\n",
       "\n",
       "    .dataframe tbody tr th {\n",
       "        vertical-align: top;\n",
       "    }\n",
       "\n",
       "    .dataframe thead th {\n",
       "        text-align: right;\n",
       "    }\n",
       "</style>\n",
       "<table border=\"1\" class=\"dataframe\">\n",
       "  <thead>\n",
       "    <tr style=\"text-align: right;\">\n",
       "      <th></th>\n",
       "      <th>InvoiceNo</th>\n",
       "      <th>StockCode</th>\n",
       "      <th>lower</th>\n",
       "      <th>Description</th>\n",
       "      <th>Quantity</th>\n",
       "      <th>InvoiceDate</th>\n",
       "      <th>UnitPrice</th>\n",
       "      <th>CustomerID</th>\n",
       "      <th>Country</th>\n",
       "    </tr>\n",
       "  </thead>\n",
       "  <tbody>\n",
       "    <tr>\n",
       "      <th>541819</th>\n",
       "      <td>581579</td>\n",
       "      <td>21121</td>\n",
       "      <td>NaN</td>\n",
       "      <td>SET/10 RED POLKADOT PARTY CANDLES</td>\n",
       "      <td>24</td>\n",
       "      <td>2011-12-09 12:19:00</td>\n",
       "      <td>1.25</td>\n",
       "      <td>17581.0</td>\n",
       "      <td>United Kingdom</td>\n",
       "    </tr>\n",
       "    <tr>\n",
       "      <th>541820</th>\n",
       "      <td>581579</td>\n",
       "      <td>23489</td>\n",
       "      <td>NaN</td>\n",
       "      <td>VINTAGE BELLS GARLAND</td>\n",
       "      <td>6</td>\n",
       "      <td>2011-12-09 12:19:00</td>\n",
       "      <td>2.89</td>\n",
       "      <td>17581.0</td>\n",
       "      <td>United Kingdom</td>\n",
       "    </tr>\n",
       "    <tr>\n",
       "      <th>541821</th>\n",
       "      <td>581579</td>\n",
       "      <td>23570</td>\n",
       "      <td>NaN</td>\n",
       "      <td>TRADITIONAL PICK UP STICKS GAME</td>\n",
       "      <td>12</td>\n",
       "      <td>2011-12-09 12:19:00</td>\n",
       "      <td>1.25</td>\n",
       "      <td>17581.0</td>\n",
       "      <td>United Kingdom</td>\n",
       "    </tr>\n",
       "    <tr>\n",
       "      <th>541822</th>\n",
       "      <td>581579</td>\n",
       "      <td>22993</td>\n",
       "      <td>NaN</td>\n",
       "      <td>SET OF 4 PANTRY JELLY MOULDS</td>\n",
       "      <td>12</td>\n",
       "      <td>2011-12-09 12:19:00</td>\n",
       "      <td>1.25</td>\n",
       "      <td>17581.0</td>\n",
       "      <td>United Kingdom</td>\n",
       "    </tr>\n",
       "    <tr>\n",
       "      <th>541823</th>\n",
       "      <td>581579</td>\n",
       "      <td>23480</td>\n",
       "      <td>NaN</td>\n",
       "      <td>MINI LIGHTS WOODLAND MUSHROOMS</td>\n",
       "      <td>8</td>\n",
       "      <td>2011-12-09 12:19:00</td>\n",
       "      <td>3.75</td>\n",
       "      <td>17581.0</td>\n",
       "      <td>United Kingdom</td>\n",
       "    </tr>\n",
       "    <tr>\n",
       "      <th>...</th>\n",
       "      <td>...</td>\n",
       "      <td>...</td>\n",
       "      <td>...</td>\n",
       "      <td>...</td>\n",
       "      <td>...</td>\n",
       "      <td>...</td>\n",
       "      <td>...</td>\n",
       "      <td>...</td>\n",
       "      <td>...</td>\n",
       "    </tr>\n",
       "    <tr>\n",
       "      <th>541904</th>\n",
       "      <td>581587</td>\n",
       "      <td>22613</td>\n",
       "      <td>NaN</td>\n",
       "      <td>PACK OF 20 SPACEBOY NAPKINS</td>\n",
       "      <td>12</td>\n",
       "      <td>2011-12-09 12:50:00</td>\n",
       "      <td>0.85</td>\n",
       "      <td>12680.0</td>\n",
       "      <td>France</td>\n",
       "    </tr>\n",
       "    <tr>\n",
       "      <th>541905</th>\n",
       "      <td>581587</td>\n",
       "      <td>22899</td>\n",
       "      <td>NaN</td>\n",
       "      <td>CHILDREN'S APRON DOLLY GIRL</td>\n",
       "      <td>6</td>\n",
       "      <td>2011-12-09 12:50:00</td>\n",
       "      <td>2.10</td>\n",
       "      <td>12680.0</td>\n",
       "      <td>France</td>\n",
       "    </tr>\n",
       "    <tr>\n",
       "      <th>541906</th>\n",
       "      <td>581587</td>\n",
       "      <td>23254</td>\n",
       "      <td>NaN</td>\n",
       "      <td>CHILDRENS CUTLERY DOLLY GIRL</td>\n",
       "      <td>4</td>\n",
       "      <td>2011-12-09 12:50:00</td>\n",
       "      <td>4.15</td>\n",
       "      <td>12680.0</td>\n",
       "      <td>France</td>\n",
       "    </tr>\n",
       "    <tr>\n",
       "      <th>541907</th>\n",
       "      <td>581587</td>\n",
       "      <td>23255</td>\n",
       "      <td>NaN</td>\n",
       "      <td>CHILDRENS CUTLERY CIRCUS PARADE</td>\n",
       "      <td>4</td>\n",
       "      <td>2011-12-09 12:50:00</td>\n",
       "      <td>4.15</td>\n",
       "      <td>12680.0</td>\n",
       "      <td>France</td>\n",
       "    </tr>\n",
       "    <tr>\n",
       "      <th>541908</th>\n",
       "      <td>581587</td>\n",
       "      <td>22138</td>\n",
       "      <td>NaN</td>\n",
       "      <td>BAKING SET 9 PIECE RETROSPOT</td>\n",
       "      <td>3</td>\n",
       "      <td>2011-12-09 12:50:00</td>\n",
       "      <td>4.95</td>\n",
       "      <td>12680.0</td>\n",
       "      <td>France</td>\n",
       "    </tr>\n",
       "  </tbody>\n",
       "</table>\n",
       "<p>90 rows × 9 columns</p>\n",
       "</div>"
      ],
      "text/plain": [
       "       InvoiceNo StockCode lower                        Description  Quantity  \\\n",
       "541819    581579     21121   NaN  SET/10 RED POLKADOT PARTY CANDLES        24   \n",
       "541820    581579     23489   NaN              VINTAGE BELLS GARLAND         6   \n",
       "541821    581579     23570   NaN   TRADITIONAL PICK UP STICKS GAME         12   \n",
       "541822    581579     22993   NaN       SET OF 4 PANTRY JELLY MOULDS        12   \n",
       "541823    581579     23480   NaN     MINI LIGHTS WOODLAND MUSHROOMS         8   \n",
       "...          ...       ...   ...                                ...       ...   \n",
       "541904    581587     22613   NaN        PACK OF 20 SPACEBOY NAPKINS        12   \n",
       "541905    581587     22899   NaN       CHILDREN'S APRON DOLLY GIRL          6   \n",
       "541906    581587     23254   NaN      CHILDRENS CUTLERY DOLLY GIRL          4   \n",
       "541907    581587     23255   NaN    CHILDRENS CUTLERY CIRCUS PARADE         4   \n",
       "541908    581587     22138   NaN      BAKING SET 9 PIECE RETROSPOT          3   \n",
       "\n",
       "               InvoiceDate  UnitPrice  CustomerID         Country  \n",
       "541819 2011-12-09 12:19:00       1.25     17581.0  United Kingdom  \n",
       "541820 2011-12-09 12:19:00       2.89     17581.0  United Kingdom  \n",
       "541821 2011-12-09 12:19:00       1.25     17581.0  United Kingdom  \n",
       "541822 2011-12-09 12:19:00       1.25     17581.0  United Kingdom  \n",
       "541823 2011-12-09 12:19:00       3.75     17581.0  United Kingdom  \n",
       "...                    ...        ...         ...             ...  \n",
       "541904 2011-12-09 12:50:00       0.85     12680.0          France  \n",
       "541905 2011-12-09 12:50:00       2.10     12680.0          France  \n",
       "541906 2011-12-09 12:50:00       4.15     12680.0          France  \n",
       "541907 2011-12-09 12:50:00       4.15     12680.0          France  \n",
       "541908 2011-12-09 12:50:00       4.95     12680.0          France  \n",
       "\n",
       "[90 rows x 9 columns]"
      ]
     },
     "execution_count": 8,
     "metadata": {},
     "output_type": "execute_result"
    }
   ],
   "source": [
    "customer_seg.tail(90)"
   ]
  },
  {
   "cell_type": "markdown",
   "id": "3edd9746",
   "metadata": {},
   "source": [
    "## EDA"
   ]
  },
  {
   "cell_type": "markdown",
   "id": "6502cdab",
   "metadata": {},
   "source": [
    "##### Creating a copy of the dataset"
   ]
  },
  {
   "cell_type": "code",
   "execution_count": 4,
   "id": "531b8223",
   "metadata": {},
   "outputs": [
    {
     "data": {
      "text/html": [
       "<div>\n",
       "<style scoped>\n",
       "    .dataframe tbody tr th:only-of-type {\n",
       "        vertical-align: middle;\n",
       "    }\n",
       "\n",
       "    .dataframe tbody tr th {\n",
       "        vertical-align: top;\n",
       "    }\n",
       "\n",
       "    .dataframe thead th {\n",
       "        text-align: right;\n",
       "    }\n",
       "</style>\n",
       "<table border=\"1\" class=\"dataframe\">\n",
       "  <thead>\n",
       "    <tr style=\"text-align: right;\">\n",
       "      <th></th>\n",
       "      <th>InvoiceNo</th>\n",
       "      <th>StockCode</th>\n",
       "      <th>lower</th>\n",
       "      <th>Description</th>\n",
       "      <th>Quantity</th>\n",
       "      <th>InvoiceDate</th>\n",
       "      <th>UnitPrice</th>\n",
       "      <th>CustomerID</th>\n",
       "      <th>Country</th>\n",
       "    </tr>\n",
       "  </thead>\n",
       "  <tbody>\n",
       "    <tr>\n",
       "      <th>0</th>\n",
       "      <td>536365</td>\n",
       "      <td>85123A</td>\n",
       "      <td>white hanging heart t-light holder</td>\n",
       "      <td>WHITE HANGING HEART T-LIGHT HOLDER</td>\n",
       "      <td>6</td>\n",
       "      <td>2010-12-01 08:26:00</td>\n",
       "      <td>2.55</td>\n",
       "      <td>17850.0</td>\n",
       "      <td>United Kingdom</td>\n",
       "    </tr>\n",
       "    <tr>\n",
       "      <th>1</th>\n",
       "      <td>536365</td>\n",
       "      <td>71053</td>\n",
       "      <td>white metal lantern</td>\n",
       "      <td>WHITE METAL LANTERN</td>\n",
       "      <td>6</td>\n",
       "      <td>2010-12-01 08:26:00</td>\n",
       "      <td>3.39</td>\n",
       "      <td>17850.0</td>\n",
       "      <td>United Kingdom</td>\n",
       "    </tr>\n",
       "  </tbody>\n",
       "</table>\n",
       "</div>"
      ],
      "text/plain": [
       "  InvoiceNo StockCode                               lower  \\\n",
       "0    536365    85123A  white hanging heart t-light holder   \n",
       "1    536365     71053                 white metal lantern   \n",
       "\n",
       "                          Description  Quantity         InvoiceDate  \\\n",
       "0  WHITE HANGING HEART T-LIGHT HOLDER         6 2010-12-01 08:26:00   \n",
       "1                 WHITE METAL LANTERN         6 2010-12-01 08:26:00   \n",
       "\n",
       "   UnitPrice  CustomerID         Country  \n",
       "0       2.55     17850.0  United Kingdom  \n",
       "1       3.39     17850.0  United Kingdom  "
      ]
     },
     "execution_count": 4,
     "metadata": {},
     "output_type": "execute_result"
    }
   ],
   "source": [
    "customer_seg_c = customer_seg.copy()\n",
    "customer_seg_c.head(2)"
   ]
  },
  {
   "cell_type": "markdown",
   "id": "35ba9945",
   "metadata": {},
   "source": [
    "##### Shape of the data"
   ]
  },
  {
   "cell_type": "code",
   "execution_count": 136,
   "id": "83e94f54",
   "metadata": {},
   "outputs": [
    {
     "data": {
      "text/plain": [
       "(401604, 9)"
      ]
     },
     "execution_count": 136,
     "metadata": {},
     "output_type": "execute_result"
    }
   ],
   "source": [
    "customer_seg_c.shape\n",
    "\n",
    "# 541909 nos. of rows & 9 nos. of columns"
   ]
  },
  {
   "cell_type": "markdown",
   "id": "c7d7eb41",
   "metadata": {},
   "source": [
    "##### Column names"
   ]
  },
  {
   "cell_type": "code",
   "execution_count": 6,
   "id": "ffa7c00b",
   "metadata": {},
   "outputs": [
    {
     "data": {
      "text/plain": [
       "Index(['InvoiceNo', 'StockCode', 'lower', 'Description', 'Quantity',\n",
       "       'InvoiceDate', 'UnitPrice', 'CustomerID', 'Country'],\n",
       "      dtype='object')"
      ]
     },
     "execution_count": 6,
     "metadata": {},
     "output_type": "execute_result"
    }
   ],
   "source": [
    "customer_seg_c.columns"
   ]
  },
  {
   "cell_type": "markdown",
   "id": "67a29cc7",
   "metadata": {},
   "source": [
    "##### Observations:\n",
    "- InvoiceNo - Invoice no. generated while processing the bill\n",
    "- StockCode - Idetification of the product\n",
    "- lower - Description of the items (column is repeated so we can drop it)\n",
    "- Description - Description of the items \n",
    "- InvoiceDate - Date on which Invoice was generated\n",
    "- UnitPrice - Price of each item\n",
    "- CustomerID - Customer identification number"
   ]
  },
  {
   "cell_type": "code",
   "execution_count": 7,
   "id": "6b592186",
   "metadata": {},
   "outputs": [
    {
     "data": {
      "text/html": [
       "<div>\n",
       "<style scoped>\n",
       "    .dataframe tbody tr th:only-of-type {\n",
       "        vertical-align: middle;\n",
       "    }\n",
       "\n",
       "    .dataframe tbody tr th {\n",
       "        vertical-align: top;\n",
       "    }\n",
       "\n",
       "    .dataframe thead th {\n",
       "        text-align: right;\n",
       "    }\n",
       "</style>\n",
       "<table border=\"1\" class=\"dataframe\">\n",
       "  <thead>\n",
       "    <tr style=\"text-align: right;\">\n",
       "      <th></th>\n",
       "      <th>InvoiceNo</th>\n",
       "      <th>StockCode</th>\n",
       "      <th>lower</th>\n",
       "      <th>Description</th>\n",
       "      <th>Quantity</th>\n",
       "      <th>InvoiceDate</th>\n",
       "      <th>UnitPrice</th>\n",
       "      <th>CustomerID</th>\n",
       "      <th>Country</th>\n",
       "    </tr>\n",
       "  </thead>\n",
       "  <tbody>\n",
       "    <tr>\n",
       "      <th>0</th>\n",
       "      <td>536365</td>\n",
       "      <td>85123A</td>\n",
       "      <td>white hanging heart t-light holder</td>\n",
       "      <td>WHITE HANGING HEART T-LIGHT HOLDER</td>\n",
       "      <td>6</td>\n",
       "      <td>2010-12-01 08:26:00</td>\n",
       "      <td>2.55</td>\n",
       "      <td>17850.0</td>\n",
       "      <td>United Kingdom</td>\n",
       "    </tr>\n",
       "    <tr>\n",
       "      <th>1</th>\n",
       "      <td>536365</td>\n",
       "      <td>71053</td>\n",
       "      <td>white metal lantern</td>\n",
       "      <td>WHITE METAL LANTERN</td>\n",
       "      <td>6</td>\n",
       "      <td>2010-12-01 08:26:00</td>\n",
       "      <td>3.39</td>\n",
       "      <td>17850.0</td>\n",
       "      <td>United Kingdom</td>\n",
       "    </tr>\n",
       "  </tbody>\n",
       "</table>\n",
       "</div>"
      ],
      "text/plain": [
       "  InvoiceNo StockCode                               lower  \\\n",
       "0    536365    85123A  white hanging heart t-light holder   \n",
       "1    536365     71053                 white metal lantern   \n",
       "\n",
       "                          Description  Quantity         InvoiceDate  \\\n",
       "0  WHITE HANGING HEART T-LIGHT HOLDER         6 2010-12-01 08:26:00   \n",
       "1                 WHITE METAL LANTERN         6 2010-12-01 08:26:00   \n",
       "\n",
       "   UnitPrice  CustomerID         Country  \n",
       "0       2.55     17850.0  United Kingdom  \n",
       "1       3.39     17850.0  United Kingdom  "
      ]
     },
     "execution_count": 7,
     "metadata": {},
     "output_type": "execute_result"
    }
   ],
   "source": [
    "customer_seg_c.head(2)"
   ]
  },
  {
   "cell_type": "markdown",
   "id": "e3969ca1",
   "metadata": {},
   "source": [
    "##### Basic information about the data"
   ]
  },
  {
   "cell_type": "code",
   "execution_count": 8,
   "id": "15ef652e",
   "metadata": {},
   "outputs": [
    {
     "name": "stdout",
     "output_type": "stream",
     "text": [
      "<class 'pandas.core.frame.DataFrame'>\n",
      "RangeIndex: 541909 entries, 0 to 541908\n",
      "Data columns (total 9 columns):\n",
      " #   Column       Non-Null Count   Dtype         \n",
      "---  ------       --------------   -----         \n",
      " 0   InvoiceNo    541909 non-null  object        \n",
      " 1   StockCode    541909 non-null  object        \n",
      " 2   lower        1816 non-null    object        \n",
      " 3   Description  540455 non-null  object        \n",
      " 4   Quantity     541909 non-null  int64         \n",
      " 5   InvoiceDate  541909 non-null  datetime64[ns]\n",
      " 6   UnitPrice    541909 non-null  float64       \n",
      " 7   CustomerID   406829 non-null  float64       \n",
      " 8   Country      541909 non-null  object        \n",
      "dtypes: datetime64[ns](1), float64(2), int64(1), object(5)\n",
      "memory usage: 37.2+ MB\n"
     ]
    }
   ],
   "source": [
    "customer_seg_c.info()"
   ]
  },
  {
   "cell_type": "markdown",
   "id": "bbc4be85",
   "metadata": {},
   "source": [
    "##### Number of unique value in each column"
   ]
  },
  {
   "cell_type": "code",
   "execution_count": 9,
   "id": "5ddd97ca",
   "metadata": {},
   "outputs": [
    {
     "data": {
      "text/plain": [
       "InvoiceNo      25900\n",
       "StockCode       4070\n",
       "lower            953\n",
       "Description     4223\n",
       "Quantity         722\n",
       "InvoiceDate    23260\n",
       "UnitPrice       1630\n",
       "CustomerID      4372\n",
       "Country           38\n",
       "dtype: int64"
      ]
     },
     "execution_count": 9,
     "metadata": {},
     "output_type": "execute_result"
    }
   ],
   "source": [
    "customer_seg_c.nunique()"
   ]
  },
  {
   "cell_type": "markdown",
   "id": "06c92c3a",
   "metadata": {},
   "source": [
    "##### Observations:\n",
    "- Total nos. of invoices generated - 25900\n",
    "- Total nos. of customers from 38 different countries are 4372"
   ]
  },
  {
   "cell_type": "markdown",
   "id": "3d6702a0",
   "metadata": {},
   "source": [
    "##### Handling duplicates"
   ]
  },
  {
   "cell_type": "code",
   "execution_count": 10,
   "id": "bc21398f",
   "metadata": {
    "scrolled": true
   },
   "outputs": [
    {
     "data": {
      "text/plain": [
       "5268"
      ]
     },
     "execution_count": 10,
     "metadata": {},
     "output_type": "execute_result"
    }
   ],
   "source": [
    "customer_seg_c.duplicated().sum()"
   ]
  },
  {
   "cell_type": "code",
   "execution_count": 11,
   "id": "9be05eba",
   "metadata": {},
   "outputs": [],
   "source": [
    "# Dropping duplicate columns & row\n",
    "customer_seg_c = customer_seg_c.drop_duplicates()"
   ]
  },
  {
   "cell_type": "code",
   "execution_count": 12,
   "id": "0d23397a",
   "metadata": {},
   "outputs": [
    {
     "data": {
      "text/plain": [
       "0"
      ]
     },
     "execution_count": 12,
     "metadata": {},
     "output_type": "execute_result"
    }
   ],
   "source": [
    "customer_seg_c.duplicated().sum()"
   ]
  },
  {
   "cell_type": "code",
   "execution_count": 13,
   "id": "eb24a409",
   "metadata": {
    "scrolled": true
   },
   "outputs": [],
   "source": [
    "# Droping the duplicate column 'lower'\n",
    "customer_seg_c = customer_seg_c.drop('lower', axis = 1)"
   ]
  },
  {
   "cell_type": "code",
   "execution_count": 14,
   "id": "7003c402",
   "metadata": {},
   "outputs": [
    {
     "data": {
      "text/plain": [
       "(536641, 8)"
      ]
     },
     "execution_count": 14,
     "metadata": {},
     "output_type": "execute_result"
    }
   ],
   "source": [
    "customer_seg_c.shape"
   ]
  },
  {
   "cell_type": "markdown",
   "id": "1be69ab2",
   "metadata": {},
   "source": [
    "##### Observation\n",
    "- 5268 nos. of rows are duplicates so we will drop it"
   ]
  },
  {
   "cell_type": "markdown",
   "id": "c5a08e45",
   "metadata": {},
   "source": [
    "##### Handling null values"
   ]
  },
  {
   "cell_type": "code",
   "execution_count": 15,
   "id": "d966672d",
   "metadata": {},
   "outputs": [
    {
     "data": {
      "text/plain": [
       "InvoiceNo           0\n",
       "StockCode           0\n",
       "Description      1454\n",
       "Quantity            0\n",
       "InvoiceDate         0\n",
       "UnitPrice           0\n",
       "CustomerID     135037\n",
       "Country             0\n",
       "dtype: int64"
      ]
     },
     "execution_count": 15,
     "metadata": {},
     "output_type": "execute_result"
    }
   ],
   "source": [
    "customer_seg_c.isnull().sum()"
   ]
  },
  {
   "cell_type": "code",
   "execution_count": 16,
   "id": "fb882fc8",
   "metadata": {},
   "outputs": [],
   "source": [
    "# customer_seg_c = customer_seg_c.dropna()"
   ]
  },
  {
   "cell_type": "code",
   "execution_count": 17,
   "id": "2ee1768a",
   "metadata": {},
   "outputs": [],
   "source": [
    "customer_seg_c = customer_seg_c.dropna(axis=0,how=\"any\",subset=[\"CustomerID\"])"
   ]
  },
  {
   "cell_type": "code",
   "execution_count": 18,
   "id": "248fee33",
   "metadata": {
    "scrolled": true
   },
   "outputs": [
    {
     "data": {
      "text/plain": [
       "(401604, 8)"
      ]
     },
     "execution_count": 18,
     "metadata": {},
     "output_type": "execute_result"
    }
   ],
   "source": [
    "customer_seg_c.shape"
   ]
  },
  {
   "cell_type": "markdown",
   "id": "f6a8285e",
   "metadata": {},
   "source": [
    "##### Observation\n",
    "- After removing dulicates & null values now we have total 401604 nos. of rows & 8 nos. of columns"
   ]
  },
  {
   "cell_type": "markdown",
   "id": "ea381979",
   "metadata": {},
   "source": [
    "##### Statistical measures"
   ]
  },
  {
   "cell_type": "code",
   "execution_count": 19,
   "id": "765e83c2",
   "metadata": {},
   "outputs": [
    {
     "data": {
      "text/html": [
       "<div>\n",
       "<style scoped>\n",
       "    .dataframe tbody tr th:only-of-type {\n",
       "        vertical-align: middle;\n",
       "    }\n",
       "\n",
       "    .dataframe tbody tr th {\n",
       "        vertical-align: top;\n",
       "    }\n",
       "\n",
       "    .dataframe thead th {\n",
       "        text-align: right;\n",
       "    }\n",
       "</style>\n",
       "<table border=\"1\" class=\"dataframe\">\n",
       "  <thead>\n",
       "    <tr style=\"text-align: right;\">\n",
       "      <th></th>\n",
       "      <th>Quantity</th>\n",
       "      <th>UnitPrice</th>\n",
       "      <th>CustomerID</th>\n",
       "    </tr>\n",
       "  </thead>\n",
       "  <tbody>\n",
       "    <tr>\n",
       "      <th>count</th>\n",
       "      <td>401604.000000</td>\n",
       "      <td>401604.000000</td>\n",
       "      <td>401604.000000</td>\n",
       "    </tr>\n",
       "    <tr>\n",
       "      <th>mean</th>\n",
       "      <td>12.183273</td>\n",
       "      <td>3.474064</td>\n",
       "      <td>15281.160818</td>\n",
       "    </tr>\n",
       "    <tr>\n",
       "      <th>std</th>\n",
       "      <td>250.283037</td>\n",
       "      <td>69.764035</td>\n",
       "      <td>1714.006089</td>\n",
       "    </tr>\n",
       "    <tr>\n",
       "      <th>min</th>\n",
       "      <td>-80995.000000</td>\n",
       "      <td>0.000000</td>\n",
       "      <td>12346.000000</td>\n",
       "    </tr>\n",
       "    <tr>\n",
       "      <th>25%</th>\n",
       "      <td>2.000000</td>\n",
       "      <td>1.250000</td>\n",
       "      <td>13939.000000</td>\n",
       "    </tr>\n",
       "    <tr>\n",
       "      <th>50%</th>\n",
       "      <td>5.000000</td>\n",
       "      <td>1.950000</td>\n",
       "      <td>15145.000000</td>\n",
       "    </tr>\n",
       "    <tr>\n",
       "      <th>75%</th>\n",
       "      <td>12.000000</td>\n",
       "      <td>3.750000</td>\n",
       "      <td>16784.000000</td>\n",
       "    </tr>\n",
       "    <tr>\n",
       "      <th>max</th>\n",
       "      <td>80995.000000</td>\n",
       "      <td>38970.000000</td>\n",
       "      <td>18287.000000</td>\n",
       "    </tr>\n",
       "  </tbody>\n",
       "</table>\n",
       "</div>"
      ],
      "text/plain": [
       "            Quantity      UnitPrice     CustomerID\n",
       "count  401604.000000  401604.000000  401604.000000\n",
       "mean       12.183273       3.474064   15281.160818\n",
       "std       250.283037      69.764035    1714.006089\n",
       "min    -80995.000000       0.000000   12346.000000\n",
       "25%         2.000000       1.250000   13939.000000\n",
       "50%         5.000000       1.950000   15145.000000\n",
       "75%        12.000000       3.750000   16784.000000\n",
       "max     80995.000000   38970.000000   18287.000000"
      ]
     },
     "execution_count": 19,
     "metadata": {},
     "output_type": "execute_result"
    }
   ],
   "source": [
    "customer_seg_c.describe()"
   ]
  },
  {
   "cell_type": "markdown",
   "id": "564125c0",
   "metadata": {},
   "source": [
    "### Visulaization"
   ]
  },
  {
   "cell_type": "markdown",
   "id": "f64b5a98",
   "metadata": {},
   "source": [
    "##### Countrywise sales"
   ]
  },
  {
   "cell_type": "code",
   "execution_count": 20,
   "id": "c2cac5b1",
   "metadata": {},
   "outputs": [
    {
     "data": {
      "image/png": "[encoded data removed]",
      "text/plain": [
       "<Figure size 1440x288 with 1 Axes>"
      ]
     },
     "metadata": {},
     "output_type": "display_data"
    }
   ],
   "source": [
    "sales = pd.DataFrame()\n",
    "sales['Total Sales'] = customer_seg_c['Quantity']*customer_seg_c['UnitPrice']\n",
    "sales['CustomerID'] = customer_seg_c['CustomerID']\n",
    "sales['Country'] = customer_seg_c['Country']\n",
    "sales = sales.groupby(['Country']).sum()\n",
    "\n",
    "sales = sales.sort_values(by=['Total Sales'], ascending=False)\n",
    "sales = sales.head()\n",
    "sales_1 = sales.reset_index()\n",
    "\n",
    "plt.figure(figsize = (20,4))\n",
    "sns.barplot(x = sales_1['Country'], y = sales_1['Total Sales'])\n",
    "plt.title('Top 5 performing countries',size = 15)\n",
    "plt.show()"
   ]
  },
  {
   "cell_type": "markdown",
   "id": "38c08673",
   "metadata": {},
   "source": [
    "##### Observation\n",
    " - Highest sales is in UK later on it's followed by Netherlands, EIRE, Germany & France\n",
    " - Below are the total sales detials of top 5 performing Countries"
   ]
  },
  {
   "cell_type": "code",
   "execution_count": 21,
   "id": "32985081",
   "metadata": {},
   "outputs": [
    {
     "data": {
      "text/html": [
       "<div>\n",
       "<style scoped>\n",
       "    .dataframe tbody tr th:only-of-type {\n",
       "        vertical-align: middle;\n",
       "    }\n",
       "\n",
       "    .dataframe tbody tr th {\n",
       "        vertical-align: top;\n",
       "    }\n",
       "\n",
       "    .dataframe thead th {\n",
       "        text-align: right;\n",
       "    }\n",
       "</style>\n",
       "<table border=\"1\" class=\"dataframe\">\n",
       "  <thead>\n",
       "    <tr style=\"text-align: right;\">\n",
       "      <th></th>\n",
       "      <th>Country</th>\n",
       "      <th>Total Sales</th>\n",
       "    </tr>\n",
       "  </thead>\n",
       "  <tbody>\n",
       "    <tr>\n",
       "      <th>0</th>\n",
       "      <td>United Kingdom</td>\n",
       "      <td>6747156.154</td>\n",
       "    </tr>\n",
       "    <tr>\n",
       "      <th>1</th>\n",
       "      <td>Netherlands</td>\n",
       "      <td>284661.540</td>\n",
       "    </tr>\n",
       "    <tr>\n",
       "      <th>2</th>\n",
       "      <td>EIRE</td>\n",
       "      <td>250001.780</td>\n",
       "    </tr>\n",
       "    <tr>\n",
       "      <th>3</th>\n",
       "      <td>Germany</td>\n",
       "      <td>221509.470</td>\n",
       "    </tr>\n",
       "    <tr>\n",
       "      <th>4</th>\n",
       "      <td>France</td>\n",
       "      <td>196626.050</td>\n",
       "    </tr>\n",
       "  </tbody>\n",
       "</table>\n",
       "</div>"
      ],
      "text/plain": [
       "          Country  Total Sales\n",
       "0  United Kingdom  6747156.154\n",
       "1     Netherlands   284661.540\n",
       "2            EIRE   250001.780\n",
       "3         Germany   221509.470\n",
       "4          France   196626.050"
      ]
     },
     "execution_count": 21,
     "metadata": {},
     "output_type": "execute_result"
    }
   ],
   "source": [
    "sales_1.drop('CustomerID', axis = 1) "
   ]
  },
  {
   "cell_type": "markdown",
   "id": "b79440e9",
   "metadata": {},
   "source": [
    "##### Top 10 buyers"
   ]
  },
  {
   "cell_type": "code",
   "execution_count": 156,
   "id": "213f3f99",
   "metadata": {},
   "outputs": [
    {
     "data": {
      "image/png": "[encoded data removed]",
      "text/plain": [
       "<Figure size 864x360 with 1 Axes>"
      ]
     },
     "metadata": {},
     "output_type": "display_data"
    }
   ],
   "source": [
    "purchaser = pd.DataFrame()\n",
    "purchaser['Total Sales'] = customer_seg_c['Quantity']*customer_seg_c['UnitPrice']\n",
    "purchaser['CustomerID'] = customer_seg_c['CustomerID']\n",
    "purchaser = purchaser.groupby(['CustomerID']).sum()\n",
    "purchaser = purchaser.sort_values(by=['Total Sales'], ascending=False)\n",
    "purchaser = purchaser.iloc[:10]\n",
    "Elite_Purchaser = purchaser.index\n",
    "High_purchase = (purchaser.values).flatten()\n",
    "\n",
    "plt.figure(figsize = (12,5))\n",
    "sns.barplot(x = Elite_Purchaser, y = High_purchase, order = Elite_Purchaser)\n",
    "plt.xlabel('Customer ID',size = 13)\n",
    "plt.ylabel('Amount', size = 13)\n",
    "plt.title(\"Customer Id's of top 10 buyers \", size = 15)\n",
    "plt.show()"
   ]
  },
  {
   "cell_type": "markdown",
   "id": "577d743e",
   "metadata": {},
   "source": [
    "#### Observation:\n",
    "- High revenue is generated by customer-Id number 14646 of 279489.02/-\n",
    "- Revenue generated by customer Id no. 18102 is 256438.49/-\n",
    "- Revenue generated by customer Id no. 17450 is 187322.17/-\n",
    "- Revenue generated by customer Id no. 14911 is 132458.73/-\n",
    "- Revenue generated by customer Id no. 12415 is 123725.45/-"
   ]
  },
  {
   "cell_type": "markdown",
   "id": "d5bdaaf9",
   "metadata": {},
   "source": [
    "##### Top 5 selling products"
   ]
  },
  {
   "cell_type": "code",
   "execution_count": 155,
   "id": "6890c25b",
   "metadata": {},
   "outputs": [
    {
     "data": {
      "image/png": "[encoded data removed]",
      "text/plain": [
       "<Figure size 1440x288 with 1 Axes>"
      ]
     },
     "metadata": {},
     "output_type": "display_data"
    }
   ],
   "source": [
    "products = customer_seg_c.sort_values(by = ['Quantity'], ascending = False)\n",
    "plt.figure(figsize = (20,4))\n",
    "sns.barplot(x = products['Description'].head(), y = products['Quantity'].head())\n",
    "plt.title('Top 5 selling products', size = 16)\n",
    "plt.xlabel('Procduct Description',size = 13)\n",
    "plt.ylabel('Quantity', size = 13)\n",
    "plt.show()"
   ]
  },
  {
   "cell_type": "markdown",
   "id": "7c7e6e84",
   "metadata": {},
   "source": [
    "##### Observation:\n",
    "- below are the detials of top 5 selling products "
   ]
  },
  {
   "cell_type": "code",
   "execution_count": 158,
   "id": "4bd87b9f",
   "metadata": {
    "scrolled": true
   },
   "outputs": [
    {
     "data": {
      "text/html": [
       "<div>\n",
       "<style scoped>\n",
       "    .dataframe tbody tr th:only-of-type {\n",
       "        vertical-align: middle;\n",
       "    }\n",
       "\n",
       "    .dataframe tbody tr th {\n",
       "        vertical-align: top;\n",
       "    }\n",
       "\n",
       "    .dataframe thead th {\n",
       "        text-align: right;\n",
       "    }\n",
       "</style>\n",
       "<table border=\"1\" class=\"dataframe\">\n",
       "  <thead>\n",
       "    <tr style=\"text-align: right;\">\n",
       "      <th></th>\n",
       "      <th>index</th>\n",
       "      <th>InvoiceNo</th>\n",
       "      <th>Description</th>\n",
       "      <th>Quantity</th>\n",
       "      <th>Country</th>\n",
       "      <th>Total Sales</th>\n",
       "    </tr>\n",
       "  </thead>\n",
       "  <tbody>\n",
       "    <tr>\n",
       "      <th>0</th>\n",
       "      <td>540421</td>\n",
       "      <td>581483</td>\n",
       "      <td>PAPER CRAFT , LITTLE BIRDIE</td>\n",
       "      <td>80995</td>\n",
       "      <td>United Kingdom</td>\n",
       "      <td>168469.6</td>\n",
       "    </tr>\n",
       "    <tr>\n",
       "      <th>1</th>\n",
       "      <td>61619</td>\n",
       "      <td>541431</td>\n",
       "      <td>MEDIUM CERAMIC TOP STORAGE JAR</td>\n",
       "      <td>74215</td>\n",
       "      <td>United Kingdom</td>\n",
       "      <td>77183.6</td>\n",
       "    </tr>\n",
       "    <tr>\n",
       "      <th>2</th>\n",
       "      <td>502122</td>\n",
       "      <td>578841</td>\n",
       "      <td>ASSTD DESIGN 3D PAPER STICKERS</td>\n",
       "      <td>12540</td>\n",
       "      <td>United Kingdom</td>\n",
       "      <td>0.0</td>\n",
       "    </tr>\n",
       "    <tr>\n",
       "      <th>3</th>\n",
       "      <td>421632</td>\n",
       "      <td>573008</td>\n",
       "      <td>WORLD WAR 2 GLIDERS ASSTD DESIGNS</td>\n",
       "      <td>4800</td>\n",
       "      <td>United Kingdom</td>\n",
       "      <td>1008.0</td>\n",
       "    </tr>\n",
       "    <tr>\n",
       "      <th>4</th>\n",
       "      <td>206121</td>\n",
       "      <td>554868</td>\n",
       "      <td>SMALL POPCORN HOLDER</td>\n",
       "      <td>4300</td>\n",
       "      <td>United Kingdom</td>\n",
       "      <td>3096.0</td>\n",
       "    </tr>\n",
       "  </tbody>\n",
       "</table>\n",
       "</div>"
      ],
      "text/plain": [
       "    index InvoiceNo                        Description  Quantity  \\\n",
       "0  540421    581483        PAPER CRAFT , LITTLE BIRDIE     80995   \n",
       "1   61619    541431     MEDIUM CERAMIC TOP STORAGE JAR     74215   \n",
       "2  502122    578841     ASSTD DESIGN 3D PAPER STICKERS     12540   \n",
       "3  421632    573008  WORLD WAR 2 GLIDERS ASSTD DESIGNS      4800   \n",
       "4  206121    554868               SMALL POPCORN HOLDER      4300   \n",
       "\n",
       "          Country  Total Sales  \n",
       "0  United Kingdom     168469.6  \n",
       "1  United Kingdom      77183.6  \n",
       "2  United Kingdom          0.0  \n",
       "3  United Kingdom       1008.0  \n",
       "4  United Kingdom       3096.0  "
      ]
     },
     "execution_count": 158,
     "metadata": {},
     "output_type": "execute_result"
    }
   ],
   "source": [
    "products.drop(['InvoiceDate', 'UnitPrice', 'CustomerID', 'StockCode'], axis = 1 ).head(5).reset_index()"
   ]
  },
  {
   "cell_type": "markdown",
   "id": "bdac11f5",
   "metadata": {},
   "source": [
    "## Analyzing the data"
   ]
  },
  {
   "cell_type": "code",
   "execution_count": 25,
   "id": "f6913e0d",
   "metadata": {},
   "outputs": [
    {
     "data": {
      "text/plain": [
       "Timestamp('2010-12-01 08:26:00')"
      ]
     },
     "execution_count": 25,
     "metadata": {},
     "output_type": "execute_result"
    }
   ],
   "source": [
    "min(products[\"InvoiceDate\"])"
   ]
  },
  {
   "cell_type": "code",
   "execution_count": 26,
   "id": "5ad4e02f",
   "metadata": {},
   "outputs": [
    {
     "data": {
      "text/plain": [
       "Timestamp('2011-12-09 12:50:00')"
      ]
     },
     "execution_count": 26,
     "metadata": {},
     "output_type": "execute_result"
    }
   ],
   "source": [
    "max(products[\"InvoiceDate\"])"
   ]
  },
  {
   "cell_type": "markdown",
   "id": "19da4c25",
   "metadata": {},
   "source": [
    "##### Observation: \n",
    "- Dataset contains shopping mall information from year 2010 to 2011 (1 yr)"
   ]
  },
  {
   "cell_type": "markdown",
   "id": "2ffba73a",
   "metadata": {},
   "source": [
    "##### Total sales across 38 countries"
   ]
  },
  {
   "cell_type": "code",
   "execution_count": 27,
   "id": "61f7aa8f",
   "metadata": {},
   "outputs": [
    {
     "name": "stdout",
     "output_type": "stream",
     "text": [
      "Total across thirty eight countries:\n",
      "8278519.424\n"
     ]
    }
   ],
   "source": [
    "sales = pd.DataFrame()\n",
    "sales['Total Sales'] = customer_seg_c['Quantity']*customer_seg_c['UnitPrice']\n",
    "sales['CustomerID'] = customer_seg_c['CustomerID']\n",
    "sales['Country'] = customer_seg_c['Country']\n",
    "sales = sales.groupby(['Country']).sum()\n",
    "print('Total across thirty eight countries:') \n",
    "print((sales[sales[\"Total Sales\"]>0][\"Total Sales\"]).sum())"
   ]
  },
  {
   "cell_type": "markdown",
   "id": "42f2fd04",
   "metadata": {},
   "source": [
    "##### Total nos. of returned  products "
   ]
  },
  {
   "cell_type": "code",
   "execution_count": 28,
   "id": "e91ebb88",
   "metadata": {
    "scrolled": true
   },
   "outputs": [
    {
     "name": "stdout",
     "output_type": "stream",
     "text": [
      "Total nos. of products returned:\n",
      "-273035\n"
     ]
    }
   ],
   "source": [
    "customer_seg_c[\"Total Sales\"] = customer_seg_c[\"Quantity\"]*customer_seg_c[\"UnitPrice\"]\n",
    "print('Total nos. of products returned:') \n",
    "print((customer_seg_c[customer_seg_c[\"Quantity\"]<0][\"Quantity\"]).sum())"
   ]
  },
  {
   "cell_type": "markdown",
   "id": "855291fc",
   "metadata": {},
   "source": [
    "##### Total cost of returned products"
   ]
  },
  {
   "cell_type": "code",
   "execution_count": 29,
   "id": "695cfb5c",
   "metadata": {
    "scrolled": false
   },
   "outputs": [
    {
     "name": "stdout",
     "output_type": "stream",
     "text": [
      "Total cost of returned products:\n",
      "-608689.47\n"
     ]
    }
   ],
   "source": [
    "print('Total cost of returned products:') \n",
    "print((customer_seg_c[customer_seg_c[\"Total Sales\"]<0][\"Total Sales\"]).sum())"
   ]
  },
  {
   "cell_type": "markdown",
   "id": "b9f9556b",
   "metadata": {},
   "source": [
    "## Calculating RFM"
   ]
  },
  {
   "cell_type": "code",
   "execution_count": 30,
   "id": "dace47d3",
   "metadata": {
    "scrolled": true
   },
   "outputs": [],
   "source": [
    "# To calculate RFM keeping significant columns only\n",
    "customer_segmen = customer_seg_c.drop(['StockCode','Description','Quantity','UnitPrice','Country','InvoiceDate','CustomerID'], axis = 1)"
   ]
  },
  {
   "cell_type": "code",
   "execution_count": 31,
   "id": "bbbd7236",
   "metadata": {},
   "outputs": [
    {
     "data": {
      "text/html": [
       "<div>\n",
       "<style scoped>\n",
       "    .dataframe tbody tr th:only-of-type {\n",
       "        vertical-align: middle;\n",
       "    }\n",
       "\n",
       "    .dataframe tbody tr th {\n",
       "        vertical-align: top;\n",
       "    }\n",
       "\n",
       "    .dataframe thead th {\n",
       "        text-align: right;\n",
       "    }\n",
       "</style>\n",
       "<table border=\"1\" class=\"dataframe\">\n",
       "  <thead>\n",
       "    <tr style=\"text-align: right;\">\n",
       "      <th></th>\n",
       "      <th>Total Sales</th>\n",
       "    </tr>\n",
       "    <tr>\n",
       "      <th>InvoiceNo</th>\n",
       "      <th></th>\n",
       "    </tr>\n",
       "  </thead>\n",
       "  <tbody>\n",
       "    <tr>\n",
       "      <th>536365</th>\n",
       "      <td>139.12</td>\n",
       "    </tr>\n",
       "    <tr>\n",
       "      <th>536366</th>\n",
       "      <td>22.20</td>\n",
       "    </tr>\n",
       "    <tr>\n",
       "      <th>536367</th>\n",
       "      <td>278.73</td>\n",
       "    </tr>\n",
       "  </tbody>\n",
       "</table>\n",
       "</div>"
      ],
      "text/plain": [
       "           Total Sales\n",
       "InvoiceNo             \n",
       "536365          139.12\n",
       "536366           22.20\n",
       "536367          278.73"
      ]
     },
     "execution_count": 31,
     "metadata": {},
     "output_type": "execute_result"
    }
   ],
   "source": [
    "# Applying groupby function to calculate the total amount w.r.t dedicated invoice no.\n",
    "customer_segmen = customer_segmen.groupby('InvoiceNo').sum()\n",
    "customer_segmen.head(3)"
   ]
  },
  {
   "cell_type": "code",
   "execution_count": 32,
   "id": "5eb2863c",
   "metadata": {},
   "outputs": [
    {
     "data": {
      "text/html": [
       "<div>\n",
       "<style scoped>\n",
       "    .dataframe tbody tr th:only-of-type {\n",
       "        vertical-align: middle;\n",
       "    }\n",
       "\n",
       "    .dataframe tbody tr th {\n",
       "        vertical-align: top;\n",
       "    }\n",
       "\n",
       "    .dataframe thead th {\n",
       "        text-align: right;\n",
       "    }\n",
       "</style>\n",
       "<table border=\"1\" class=\"dataframe\">\n",
       "  <thead>\n",
       "    <tr style=\"text-align: right;\">\n",
       "      <th></th>\n",
       "      <th>InvoiceNo</th>\n",
       "      <th>InvoiceDate</th>\n",
       "      <th>CustomerID</th>\n",
       "    </tr>\n",
       "  </thead>\n",
       "  <tbody>\n",
       "    <tr>\n",
       "      <th>0</th>\n",
       "      <td>536365</td>\n",
       "      <td>2010-12-01 08:26:00</td>\n",
       "      <td>17850.0</td>\n",
       "    </tr>\n",
       "    <tr>\n",
       "      <th>7</th>\n",
       "      <td>536366</td>\n",
       "      <td>2010-12-01 08:28:00</td>\n",
       "      <td>17850.0</td>\n",
       "    </tr>\n",
       "    <tr>\n",
       "      <th>9</th>\n",
       "      <td>536367</td>\n",
       "      <td>2010-12-01 08:34:00</td>\n",
       "      <td>13047.0</td>\n",
       "    </tr>\n",
       "  </tbody>\n",
       "</table>\n",
       "</div>"
      ],
      "text/plain": [
       "  InvoiceNo         InvoiceDate  CustomerID\n",
       "0    536365 2010-12-01 08:26:00     17850.0\n",
       "7    536366 2010-12-01 08:28:00     17850.0\n",
       "9    536367 2010-12-01 08:34:00     13047.0"
      ]
     },
     "execution_count": 32,
     "metadata": {},
     "output_type": "execute_result"
    }
   ],
   "source": [
    "# Removing duplicates based on invoice no.\n",
    "customer_segmen1 = customer_seg_c.drop(['StockCode','Description','Quantity','UnitPrice','Country','Total Sales'], axis = 1)\n",
    "customer_segmen1 = customer_segmen1.drop_duplicates(subset = 'InvoiceNo')\n",
    "customer_segmen1.head(3)"
   ]
  },
  {
   "cell_type": "code",
   "execution_count": 33,
   "id": "7b5d8acc",
   "metadata": {},
   "outputs": [
    {
     "data": {
      "text/html": [
       "<div>\n",
       "<style scoped>\n",
       "    .dataframe tbody tr th:only-of-type {\n",
       "        vertical-align: middle;\n",
       "    }\n",
       "\n",
       "    .dataframe tbody tr th {\n",
       "        vertical-align: top;\n",
       "    }\n",
       "\n",
       "    .dataframe thead th {\n",
       "        text-align: right;\n",
       "    }\n",
       "</style>\n",
       "<table border=\"1\" class=\"dataframe\">\n",
       "  <thead>\n",
       "    <tr style=\"text-align: right;\">\n",
       "      <th></th>\n",
       "      <th>InvoiceNo</th>\n",
       "      <th>InvoiceDate</th>\n",
       "      <th>CustomerID</th>\n",
       "      <th>Total Sales</th>\n",
       "    </tr>\n",
       "  </thead>\n",
       "  <tbody>\n",
       "    <tr>\n",
       "      <th>0</th>\n",
       "      <td>536365</td>\n",
       "      <td>2010-12-01 08:26:00</td>\n",
       "      <td>17850.0</td>\n",
       "      <td>139.12</td>\n",
       "    </tr>\n",
       "    <tr>\n",
       "      <th>1</th>\n",
       "      <td>536366</td>\n",
       "      <td>2010-12-01 08:28:00</td>\n",
       "      <td>17850.0</td>\n",
       "      <td>22.20</td>\n",
       "    </tr>\n",
       "    <tr>\n",
       "      <th>2</th>\n",
       "      <td>536367</td>\n",
       "      <td>2010-12-01 08:34:00</td>\n",
       "      <td>13047.0</td>\n",
       "      <td>278.73</td>\n",
       "    </tr>\n",
       "    <tr>\n",
       "      <th>3</th>\n",
       "      <td>536368</td>\n",
       "      <td>2010-12-01 08:34:00</td>\n",
       "      <td>13047.0</td>\n",
       "      <td>70.05</td>\n",
       "    </tr>\n",
       "    <tr>\n",
       "      <th>4</th>\n",
       "      <td>536369</td>\n",
       "      <td>2010-12-01 08:35:00</td>\n",
       "      <td>13047.0</td>\n",
       "      <td>17.85</td>\n",
       "    </tr>\n",
       "  </tbody>\n",
       "</table>\n",
       "</div>"
      ],
      "text/plain": [
       "  InvoiceNo         InvoiceDate  CustomerID  Total Sales\n",
       "0    536365 2010-12-01 08:26:00     17850.0       139.12\n",
       "1    536366 2010-12-01 08:28:00     17850.0        22.20\n",
       "2    536367 2010-12-01 08:34:00     13047.0       278.73\n",
       "3    536368 2010-12-01 08:34:00     13047.0        70.05\n",
       "4    536369 2010-12-01 08:35:00     13047.0        17.85"
      ]
     },
     "execution_count": 33,
     "metadata": {},
     "output_type": "execute_result"
    }
   ],
   "source": [
    "# Merging the two dataframes\n",
    "cust_seg = pd.merge(customer_segmen1,customer_segmen, how = 'left', on = 'InvoiceNo')\n",
    "cust_seg.head(5)"
   ]
  },
  {
   "cell_type": "code",
   "execution_count": 34,
   "id": "3e13533b",
   "metadata": {},
   "outputs": [
    {
     "name": "stdout",
     "output_type": "stream",
     "text": [
      "Latest date of invoice no. : 2011-12-09 12:50:00\n",
      "Oldest date of invoice no. : 2010-12-01 08:26:00\n"
     ]
    }
   ],
   "source": [
    "# Calculating latest & oldest date invoice no.\n",
    "print('Latest date of invoice no. :', max(cust_seg[\"InvoiceDate\"]))\n",
    "print('Oldest date of invoice no. :', min(cust_seg[\"InvoiceDate\"]))"
   ]
  },
  {
   "cell_type": "code",
   "execution_count": 35,
   "id": "bd40ca82",
   "metadata": {},
   "outputs": [
    {
     "data": {
      "text/plain": [
       "datetime.datetime(2011, 12, 11, 0, 0)"
      ]
     },
     "execution_count": 35,
     "metadata": {},
     "output_type": "execute_result"
    }
   ],
   "source": [
    "# importing datetime \n",
    "import datetime as dt\n",
    "latest_date = dt.datetime(2011,12,11) # changing the latest date as 11 dec 2011\n",
    "latest_date"
   ]
  },
  {
   "cell_type": "code",
   "execution_count": 36,
   "id": "0e96db27",
   "metadata": {},
   "outputs": [
    {
     "data": {
      "text/html": [
       "<div>\n",
       "<style scoped>\n",
       "    .dataframe tbody tr th:only-of-type {\n",
       "        vertical-align: middle;\n",
       "    }\n",
       "\n",
       "    .dataframe tbody tr th {\n",
       "        vertical-align: top;\n",
       "    }\n",
       "\n",
       "    .dataframe thead th {\n",
       "        text-align: right;\n",
       "    }\n",
       "</style>\n",
       "<table border=\"1\" class=\"dataframe\">\n",
       "  <thead>\n",
       "    <tr style=\"text-align: right;\">\n",
       "      <th></th>\n",
       "      <th>InvoiceDate</th>\n",
       "      <th>InvoiceNo</th>\n",
       "      <th>Total Sales</th>\n",
       "    </tr>\n",
       "    <tr>\n",
       "      <th>CustomerID</th>\n",
       "      <th></th>\n",
       "      <th></th>\n",
       "      <th></th>\n",
       "    </tr>\n",
       "  </thead>\n",
       "  <tbody>\n",
       "    <tr>\n",
       "      <th>12346.0</th>\n",
       "      <td>326</td>\n",
       "      <td>2</td>\n",
       "      <td>0.00</td>\n",
       "    </tr>\n",
       "    <tr>\n",
       "      <th>12347.0</th>\n",
       "      <td>3</td>\n",
       "      <td>7</td>\n",
       "      <td>4310.00</td>\n",
       "    </tr>\n",
       "    <tr>\n",
       "      <th>12348.0</th>\n",
       "      <td>76</td>\n",
       "      <td>4</td>\n",
       "      <td>1797.24</td>\n",
       "    </tr>\n",
       "  </tbody>\n",
       "</table>\n",
       "</div>"
      ],
      "text/plain": [
       "            InvoiceDate  InvoiceNo  Total Sales\n",
       "CustomerID                                     \n",
       "12346.0             326          2         0.00\n",
       "12347.0               3          7      4310.00\n",
       "12348.0              76          4      1797.24"
      ]
     },
     "execution_count": 36,
     "metadata": {},
     "output_type": "execute_result"
    }
   ],
   "source": [
    "# Calculating Recency Frequency and Monetary values as per the customer ID\n",
    "RFM_Score = cust_seg.groupby('CustomerID').agg({'InvoiceDate': lambda x :(latest_date-x.max()).days, 'InvoiceNo' : lambda x : x.count(), 'Total Sales' : lambda x : x.sum()})\n",
    "RFM_Score.head(3)"
   ]
  },
  {
   "cell_type": "code",
   "execution_count": 37,
   "id": "e3d4e668",
   "metadata": {},
   "outputs": [
    {
     "data": {
      "text/html": [
       "<div>\n",
       "<style scoped>\n",
       "    .dataframe tbody tr th:only-of-type {\n",
       "        vertical-align: middle;\n",
       "    }\n",
       "\n",
       "    .dataframe tbody tr th {\n",
       "        vertical-align: top;\n",
       "    }\n",
       "\n",
       "    .dataframe thead th {\n",
       "        text-align: right;\n",
       "    }\n",
       "</style>\n",
       "<table border=\"1\" class=\"dataframe\">\n",
       "  <thead>\n",
       "    <tr style=\"text-align: right;\">\n",
       "      <th></th>\n",
       "      <th>CustomerID</th>\n",
       "      <th>InvoiceDate</th>\n",
       "      <th>InvoiceNo</th>\n",
       "      <th>Total Sales</th>\n",
       "    </tr>\n",
       "  </thead>\n",
       "  <tbody>\n",
       "    <tr>\n",
       "      <th>0</th>\n",
       "      <td>12346.0</td>\n",
       "      <td>326</td>\n",
       "      <td>2</td>\n",
       "      <td>0.00</td>\n",
       "    </tr>\n",
       "    <tr>\n",
       "      <th>1</th>\n",
       "      <td>12347.0</td>\n",
       "      <td>3</td>\n",
       "      <td>7</td>\n",
       "      <td>4310.00</td>\n",
       "    </tr>\n",
       "    <tr>\n",
       "      <th>2</th>\n",
       "      <td>12348.0</td>\n",
       "      <td>76</td>\n",
       "      <td>4</td>\n",
       "      <td>1797.24</td>\n",
       "    </tr>\n",
       "  </tbody>\n",
       "</table>\n",
       "</div>"
      ],
      "text/plain": [
       "   CustomerID  InvoiceDate  InvoiceNo  Total Sales\n",
       "0     12346.0          326          2         0.00\n",
       "1     12347.0            3          7      4310.00\n",
       "2     12348.0           76          4      1797.24"
      ]
     },
     "execution_count": 37,
     "metadata": {},
     "output_type": "execute_result"
    }
   ],
   "source": [
    "# Resetting the index\n",
    "RFM_Score = RFM_Score.reset_index()\n",
    "RFM_Score.head(3)"
   ]
  },
  {
   "cell_type": "code",
   "execution_count": 38,
   "id": "c4481254",
   "metadata": {},
   "outputs": [
    {
     "data": {
      "text/html": [
       "<div>\n",
       "<style scoped>\n",
       "    .dataframe tbody tr th:only-of-type {\n",
       "        vertical-align: middle;\n",
       "    }\n",
       "\n",
       "    .dataframe tbody tr th {\n",
       "        vertical-align: top;\n",
       "    }\n",
       "\n",
       "    .dataframe thead th {\n",
       "        text-align: right;\n",
       "    }\n",
       "</style>\n",
       "<table border=\"1\" class=\"dataframe\">\n",
       "  <thead>\n",
       "    <tr style=\"text-align: right;\">\n",
       "      <th></th>\n",
       "      <th>CustomerID</th>\n",
       "      <th>Recency</th>\n",
       "      <th>Frequency</th>\n",
       "      <th>Monetary</th>\n",
       "    </tr>\n",
       "  </thead>\n",
       "  <tbody>\n",
       "    <tr>\n",
       "      <th>0</th>\n",
       "      <td>12346.0</td>\n",
       "      <td>326</td>\n",
       "      <td>2</td>\n",
       "      <td>0.00</td>\n",
       "    </tr>\n",
       "    <tr>\n",
       "      <th>1</th>\n",
       "      <td>12347.0</td>\n",
       "      <td>3</td>\n",
       "      <td>7</td>\n",
       "      <td>4310.00</td>\n",
       "    </tr>\n",
       "    <tr>\n",
       "      <th>2</th>\n",
       "      <td>12348.0</td>\n",
       "      <td>76</td>\n",
       "      <td>4</td>\n",
       "      <td>1797.24</td>\n",
       "    </tr>\n",
       "  </tbody>\n",
       "</table>\n",
       "</div>"
      ],
      "text/plain": [
       "   CustomerID  Recency  Frequency  Monetary\n",
       "0     12346.0      326          2      0.00\n",
       "1     12347.0        3          7   4310.00\n",
       "2     12348.0       76          4   1797.24"
      ]
     },
     "execution_count": 38,
     "metadata": {},
     "output_type": "execute_result"
    }
   ],
   "source": [
    "# Renaming the column names\n",
    "RFM_Score = RFM_Score.rename(columns = {'InvoiceDate':'Recency', \"InvoiceNo\" : 'Frequency', 'Total Sales' : 'Monetary'})\n",
    "RFM_Score.head(3)"
   ]
  },
  {
   "cell_type": "code",
   "execution_count": 39,
   "id": "2685dd8e",
   "metadata": {},
   "outputs": [
    {
     "data": {
      "text/html": [
       "<div>\n",
       "<style scoped>\n",
       "    .dataframe tbody tr th:only-of-type {\n",
       "        vertical-align: middle;\n",
       "    }\n",
       "\n",
       "    .dataframe tbody tr th {\n",
       "        vertical-align: top;\n",
       "    }\n",
       "\n",
       "    .dataframe thead th {\n",
       "        text-align: right;\n",
       "    }\n",
       "</style>\n",
       "<table border=\"1\" class=\"dataframe\">\n",
       "  <thead>\n",
       "    <tr style=\"text-align: right;\">\n",
       "      <th></th>\n",
       "      <th>CustomerID</th>\n",
       "      <th>Recency</th>\n",
       "      <th>Frequency</th>\n",
       "      <th>Monetary</th>\n",
       "    </tr>\n",
       "  </thead>\n",
       "  <tbody>\n",
       "    <tr>\n",
       "      <th>count</th>\n",
       "      <td>4372.000000</td>\n",
       "      <td>4372.000000</td>\n",
       "      <td>4372.000000</td>\n",
       "      <td>4372.000000</td>\n",
       "    </tr>\n",
       "    <tr>\n",
       "      <th>mean</th>\n",
       "      <td>15299.677722</td>\n",
       "      <td>92.581199</td>\n",
       "      <td>5.075480</td>\n",
       "      <td>1893.531433</td>\n",
       "    </tr>\n",
       "    <tr>\n",
       "      <th>std</th>\n",
       "      <td>1722.390705</td>\n",
       "      <td>100.772139</td>\n",
       "      <td>9.338754</td>\n",
       "      <td>8218.696204</td>\n",
       "    </tr>\n",
       "    <tr>\n",
       "      <th>min</th>\n",
       "      <td>12346.000000</td>\n",
       "      <td>1.000000</td>\n",
       "      <td>1.000000</td>\n",
       "      <td>-4287.630000</td>\n",
       "    </tr>\n",
       "    <tr>\n",
       "      <th>25%</th>\n",
       "      <td>13812.750000</td>\n",
       "      <td>17.000000</td>\n",
       "      <td>1.000000</td>\n",
       "      <td>291.795000</td>\n",
       "    </tr>\n",
       "    <tr>\n",
       "      <th>50%</th>\n",
       "      <td>15300.500000</td>\n",
       "      <td>51.000000</td>\n",
       "      <td>3.000000</td>\n",
       "      <td>644.070000</td>\n",
       "    </tr>\n",
       "    <tr>\n",
       "      <th>75%</th>\n",
       "      <td>16778.250000</td>\n",
       "      <td>144.000000</td>\n",
       "      <td>5.000000</td>\n",
       "      <td>1608.335000</td>\n",
       "    </tr>\n",
       "    <tr>\n",
       "      <th>max</th>\n",
       "      <td>18287.000000</td>\n",
       "      <td>374.000000</td>\n",
       "      <td>248.000000</td>\n",
       "      <td>279489.020000</td>\n",
       "    </tr>\n",
       "  </tbody>\n",
       "</table>\n",
       "</div>"
      ],
      "text/plain": [
       "         CustomerID      Recency    Frequency       Monetary\n",
       "count   4372.000000  4372.000000  4372.000000    4372.000000\n",
       "mean   15299.677722    92.581199     5.075480    1893.531433\n",
       "std     1722.390705   100.772139     9.338754    8218.696204\n",
       "min    12346.000000     1.000000     1.000000   -4287.630000\n",
       "25%    13812.750000    17.000000     1.000000     291.795000\n",
       "50%    15300.500000    51.000000     3.000000     644.070000\n",
       "75%    16778.250000   144.000000     5.000000    1608.335000\n",
       "max    18287.000000   374.000000   248.000000  279489.020000"
      ]
     },
     "execution_count": 39,
     "metadata": {},
     "output_type": "execute_result"
    }
   ],
   "source": [
    "RFM_Score.describe()"
   ]
  },
  {
   "cell_type": "markdown",
   "id": "849e539a",
   "metadata": {},
   "source": [
    "##### Observation:\n",
    "- There is a huge difference between maximum value & 75th percentile value so we will change the the percentile range"
   ]
  },
  {
   "cell_type": "code",
   "execution_count": 40,
   "id": "e347b472",
   "metadata": {},
   "outputs": [],
   "source": [
    "# changing the quantile range as per the requirement of the data set"
   ]
  },
  {
   "cell_type": "code",
   "execution_count": 41,
   "id": "a384b368",
   "metadata": {},
   "outputs": [
    {
     "data": {
      "text/plain": [
       "<AxesSubplot:xlabel='Recency', ylabel='Proportion'>"
      ]
     },
     "execution_count": 41,
     "metadata": {},
     "output_type": "execute_result"
    },
    {
     "data": {
      "image/png": "[encoded data removed]",
      "text/plain": [
       "<Figure size 432x288 with 1 Axes>"
      ]
     },
     "metadata": {},
     "output_type": "display_data"
    }
   ],
   "source": [
    "# Recency\n",
    "sns.ecdfplot(data=RFM_Score[\"Recency\"])"
   ]
  },
  {
   "cell_type": "code",
   "execution_count": 42,
   "id": "ad4ab5c6",
   "metadata": {},
   "outputs": [
    {
     "data": {
      "text/plain": [
       "0.390     31.0\n",
       "0.550     60.0\n",
       "0.801    180.0\n",
       "Name: Recency, dtype: float64"
      ]
     },
     "execution_count": 42,
     "metadata": {},
     "output_type": "execute_result"
    }
   ],
   "source": [
    "RFM_Score[\"Recency\"].quantile(q=[0.39,0.55,0.801])"
   ]
  },
  {
   "cell_type": "code",
   "execution_count": 43,
   "id": "f7fa6b49",
   "metadata": {},
   "outputs": [
    {
     "data": {
      "text/plain": [
       "<AxesSubplot:xlabel='Frequency', ylabel='Proportion'>"
      ]
     },
     "execution_count": 43,
     "metadata": {},
     "output_type": "execute_result"
    },
    {
     "data": {
      "image/png": "[encoded data removed]",
      "text/plain": [
       "<Figure size 432x288 with 1 Axes>"
      ]
     },
     "metadata": {},
     "output_type": "display_data"
    }
   ],
   "source": [
    "# Frequency\n",
    "sns.ecdfplot(data=RFM_Score[\"Frequency\"])"
   ]
  },
  {
   "cell_type": "code",
   "execution_count": 44,
   "id": "f88472d2",
   "metadata": {
    "scrolled": true
   },
   "outputs": [],
   "source": [
    "# import seaborn as sns\n",
    "# plt.figure(figsize=(12,6))\n",
    "# sns.distplot(RFM_Score[\"Frequency\"],kde=True)"
   ]
  },
  {
   "cell_type": "code",
   "execution_count": 45,
   "id": "c306e2ff",
   "metadata": {},
   "outputs": [
    {
     "data": {
      "text/plain": [
       "0.990     36.000\n",
       "0.998     78.032\n",
       "0.999    118.000\n",
       "Name: Frequency, dtype: float64"
      ]
     },
     "execution_count": 45,
     "metadata": {},
     "output_type": "execute_result"
    }
   ],
   "source": [
    "RFM_Score[\"Frequency\"].quantile(q=[0.99,0.998,0.999])"
   ]
  },
  {
   "cell_type": "code",
   "execution_count": 46,
   "id": "66428722",
   "metadata": {},
   "outputs": [
    {
     "data": {
      "text/plain": [
       "<AxesSubplot:xlabel='Monetary', ylabel='Proportion'>"
      ]
     },
     "execution_count": 46,
     "metadata": {},
     "output_type": "execute_result"
    },
    {
     "data": {
      "image/png": "[encoded data removed]",
      "text/plain": [
       "<Figure size 432x288 with 1 Axes>"
      ]
     },
     "metadata": {},
     "output_type": "display_data"
    }
   ],
   "source": [
    "# Monetary\n",
    "sns.ecdfplot(data=RFM_Score[\"Monetary\"])"
   ]
  },
  {
   "cell_type": "code",
   "execution_count": 47,
   "id": "69b49c69",
   "metadata": {},
   "outputs": [
    {
     "data": {
      "text/plain": [
       "0.67850     1200.938340\n",
       "0.98377    12007.907416\n",
       "0.99611    50381.846856\n",
       "Name: Monetary, dtype: float64"
      ]
     },
     "execution_count": 47,
     "metadata": {},
     "output_type": "execute_result"
    }
   ],
   "source": [
    "RFM_Score[\"Monetary\"].quantile(q=[0.6785,0.98377,0.99611])"
   ]
  },
  {
   "cell_type": "code",
   "execution_count": 48,
   "id": "72fe5dc2",
   "metadata": {},
   "outputs": [],
   "source": [
    "# passing the quantile range to rfm score & creating the function"
   ]
  },
  {
   "cell_type": "code",
   "execution_count": 49,
   "id": "74a4b70b",
   "metadata": {},
   "outputs": [],
   "source": [
    "quantile_r = RFM_Score.quantile(q=[0.39,0.55,0.801])\n",
    "quantile_f = RFM_Score.quantile(q=[0.965,0.99451,0.998715])\n",
    "quantile_m = RFM_Score.quantile(q=[0.6785,0.98377,0.99611])"
   ]
  },
  {
   "cell_type": "code",
   "execution_count": 50,
   "id": "a31e2219",
   "metadata": {},
   "outputs": [],
   "source": [
    "# Recency\n",
    "\n",
    "def R_Scoring(x,p,d):\n",
    "    if x<=d[p][0.39]:\n",
    "        return 4\n",
    "    elif x<=d[p][0.55]:\n",
    "        return 3\n",
    "    elif x<=d[p][0.801]:\n",
    "        return 2\n",
    "    else:\n",
    "        return 1"
   ]
  },
  {
   "cell_type": "code",
   "execution_count": 51,
   "id": "23475e8d",
   "metadata": {},
   "outputs": [],
   "source": [
    "# Frequency\n",
    "\n",
    "def F_Scoring(x,p,d):\n",
    "    if x<= d[p][0.965]:\n",
    "        return 1\n",
    "    elif x<= d[p][0.99451]:\n",
    "        return 2\n",
    "    elif x<= d[p][0.998715]:\n",
    "        return 3\n",
    "    else:\n",
    "        return 4"
   ]
  },
  {
   "cell_type": "code",
   "execution_count": 52,
   "id": "4f253705",
   "metadata": {},
   "outputs": [],
   "source": [
    "# Monetary\n",
    "\n",
    "def M_Scoring(x,p,d):\n",
    "    if x<= d[p][0.6785]:\n",
    "        return 1\n",
    "    elif x<=d[p][0.98377]:\n",
    "        return 2\n",
    "    elif x<=d[p][0.99611]:\n",
    "        return 3\n",
    "    else:\n",
    "        return 4"
   ]
  },
  {
   "cell_type": "code",
   "execution_count": 53,
   "id": "fbc206ed",
   "metadata": {},
   "outputs": [],
   "source": [
    "quantile_r = RFM_Score.quantile(q=[0.39,0.55,0.801])\n",
    "quantile_f = RFM_Score.quantile(q=[0.965,0.99451,0.998715])\n",
    "quantile_m = RFM_Score.quantile(q=[0.6785,0.98377,0.99611])"
   ]
  },
  {
   "cell_type": "code",
   "execution_count": 54,
   "id": "e55211c6",
   "metadata": {},
   "outputs": [],
   "source": [
    "RFM_Score['R'] = RFM_Score['Recency'].apply(R_Scoring, args = ('Recency', quantile_r))\n",
    "RFM_Score['F'] = RFM_Score['Frequency'].apply(F_Scoring, args = ('Frequency', quantile_f))\n",
    "RFM_Score['M'] = RFM_Score['Monetary'].apply(M_Scoring, args = ('Monetary', quantile_m))"
   ]
  },
  {
   "cell_type": "code",
   "execution_count": 55,
   "id": "d5ba7ebf",
   "metadata": {},
   "outputs": [
    {
     "data": {
      "text/html": [
       "<div>\n",
       "<style scoped>\n",
       "    .dataframe tbody tr th:only-of-type {\n",
       "        vertical-align: middle;\n",
       "    }\n",
       "\n",
       "    .dataframe tbody tr th {\n",
       "        vertical-align: top;\n",
       "    }\n",
       "\n",
       "    .dataframe thead th {\n",
       "        text-align: right;\n",
       "    }\n",
       "</style>\n",
       "<table border=\"1\" class=\"dataframe\">\n",
       "  <thead>\n",
       "    <tr style=\"text-align: right;\">\n",
       "      <th></th>\n",
       "      <th>CustomerID</th>\n",
       "      <th>Recency</th>\n",
       "      <th>Frequency</th>\n",
       "      <th>Monetary</th>\n",
       "      <th>R</th>\n",
       "      <th>F</th>\n",
       "      <th>M</th>\n",
       "    </tr>\n",
       "  </thead>\n",
       "  <tbody>\n",
       "    <tr>\n",
       "      <th>0</th>\n",
       "      <td>12346.0</td>\n",
       "      <td>326</td>\n",
       "      <td>2</td>\n",
       "      <td>0.00</td>\n",
       "      <td>1</td>\n",
       "      <td>1</td>\n",
       "      <td>1</td>\n",
       "    </tr>\n",
       "    <tr>\n",
       "      <th>1</th>\n",
       "      <td>12347.0</td>\n",
       "      <td>3</td>\n",
       "      <td>7</td>\n",
       "      <td>4310.00</td>\n",
       "      <td>4</td>\n",
       "      <td>1</td>\n",
       "      <td>2</td>\n",
       "    </tr>\n",
       "    <tr>\n",
       "      <th>2</th>\n",
       "      <td>12348.0</td>\n",
       "      <td>76</td>\n",
       "      <td>4</td>\n",
       "      <td>1797.24</td>\n",
       "      <td>2</td>\n",
       "      <td>1</td>\n",
       "      <td>2</td>\n",
       "    </tr>\n",
       "  </tbody>\n",
       "</table>\n",
       "</div>"
      ],
      "text/plain": [
       "   CustomerID  Recency  Frequency  Monetary  R  F  M\n",
       "0     12346.0      326          2      0.00  1  1  1\n",
       "1     12347.0        3          7   4310.00  4  1  2\n",
       "2     12348.0       76          4   1797.24  2  1  2"
      ]
     },
     "execution_count": 55,
     "metadata": {},
     "output_type": "execute_result"
    }
   ],
   "source": [
    "RFM_Score.head(3)"
   ]
  },
  {
   "cell_type": "code",
   "execution_count": 56,
   "id": "0661c5db",
   "metadata": {},
   "outputs": [
    {
     "data": {
      "text/html": [
       "<div>\n",
       "<style scoped>\n",
       "    .dataframe tbody tr th:only-of-type {\n",
       "        vertical-align: middle;\n",
       "    }\n",
       "\n",
       "    .dataframe tbody tr th {\n",
       "        vertical-align: top;\n",
       "    }\n",
       "\n",
       "    .dataframe thead th {\n",
       "        text-align: right;\n",
       "    }\n",
       "</style>\n",
       "<table border=\"1\" class=\"dataframe\">\n",
       "  <thead>\n",
       "    <tr style=\"text-align: right;\">\n",
       "      <th></th>\n",
       "      <th>CustomerID</th>\n",
       "      <th>Recency</th>\n",
       "      <th>Frequency</th>\n",
       "      <th>Monetary</th>\n",
       "      <th>R</th>\n",
       "      <th>F</th>\n",
       "      <th>M</th>\n",
       "      <th>RFM_Score</th>\n",
       "    </tr>\n",
       "  </thead>\n",
       "  <tbody>\n",
       "    <tr>\n",
       "      <th>0</th>\n",
       "      <td>12346.0</td>\n",
       "      <td>326</td>\n",
       "      <td>2</td>\n",
       "      <td>0.00</td>\n",
       "      <td>1</td>\n",
       "      <td>1</td>\n",
       "      <td>1</td>\n",
       "      <td>111</td>\n",
       "    </tr>\n",
       "    <tr>\n",
       "      <th>1</th>\n",
       "      <td>12347.0</td>\n",
       "      <td>3</td>\n",
       "      <td>7</td>\n",
       "      <td>4310.00</td>\n",
       "      <td>4</td>\n",
       "      <td>1</td>\n",
       "      <td>2</td>\n",
       "      <td>412</td>\n",
       "    </tr>\n",
       "    <tr>\n",
       "      <th>2</th>\n",
       "      <td>12348.0</td>\n",
       "      <td>76</td>\n",
       "      <td>4</td>\n",
       "      <td>1797.24</td>\n",
       "      <td>2</td>\n",
       "      <td>1</td>\n",
       "      <td>2</td>\n",
       "      <td>212</td>\n",
       "    </tr>\n",
       "  </tbody>\n",
       "</table>\n",
       "</div>"
      ],
      "text/plain": [
       "   CustomerID  Recency  Frequency  Monetary  R  F  M RFM_Score\n",
       "0     12346.0      326          2      0.00  1  1  1       111\n",
       "1     12347.0        3          7   4310.00  4  1  2       412\n",
       "2     12348.0       76          4   1797.24  2  1  2       212"
      ]
     },
     "execution_count": 56,
     "metadata": {},
     "output_type": "execute_result"
    }
   ],
   "source": [
    "# Converting int into string form\n",
    "RFM_Score['RFM_Score'] = RFM_Score.R.map(str)+RFM_Score.F.map(str)+RFM_Score.M.map(str)\n",
    "RFM_Score.head(3)"
   ]
  },
  {
   "cell_type": "code",
   "execution_count": 57,
   "id": "d572edd6",
   "metadata": {},
   "outputs": [
    {
     "data": {
      "text/html": [
       "<div>\n",
       "<style scoped>\n",
       "    .dataframe tbody tr th:only-of-type {\n",
       "        vertical-align: middle;\n",
       "    }\n",
       "\n",
       "    .dataframe tbody tr th {\n",
       "        vertical-align: top;\n",
       "    }\n",
       "\n",
       "    .dataframe thead th {\n",
       "        text-align: right;\n",
       "    }\n",
       "</style>\n",
       "<table border=\"1\" class=\"dataframe\">\n",
       "  <thead>\n",
       "    <tr style=\"text-align: right;\">\n",
       "      <th></th>\n",
       "      <th>CustomerID</th>\n",
       "      <th>Recency</th>\n",
       "      <th>Frequency</th>\n",
       "      <th>Monetary</th>\n",
       "      <th>R</th>\n",
       "      <th>F</th>\n",
       "      <th>M</th>\n",
       "      <th>RFM_Score</th>\n",
       "      <th>RFM_Score_Sum</th>\n",
       "    </tr>\n",
       "  </thead>\n",
       "  <tbody>\n",
       "    <tr>\n",
       "      <th>0</th>\n",
       "      <td>12346.0</td>\n",
       "      <td>326</td>\n",
       "      <td>2</td>\n",
       "      <td>0.00</td>\n",
       "      <td>1</td>\n",
       "      <td>1</td>\n",
       "      <td>1</td>\n",
       "      <td>111</td>\n",
       "      <td>3</td>\n",
       "    </tr>\n",
       "    <tr>\n",
       "      <th>1</th>\n",
       "      <td>12347.0</td>\n",
       "      <td>3</td>\n",
       "      <td>7</td>\n",
       "      <td>4310.00</td>\n",
       "      <td>4</td>\n",
       "      <td>1</td>\n",
       "      <td>2</td>\n",
       "      <td>412</td>\n",
       "      <td>7</td>\n",
       "    </tr>\n",
       "    <tr>\n",
       "      <th>2</th>\n",
       "      <td>12348.0</td>\n",
       "      <td>76</td>\n",
       "      <td>4</td>\n",
       "      <td>1797.24</td>\n",
       "      <td>2</td>\n",
       "      <td>1</td>\n",
       "      <td>2</td>\n",
       "      <td>212</td>\n",
       "      <td>5</td>\n",
       "    </tr>\n",
       "  </tbody>\n",
       "</table>\n",
       "</div>"
      ],
      "text/plain": [
       "   CustomerID  Recency  Frequency  Monetary  R  F  M RFM_Score  RFM_Score_Sum\n",
       "0     12346.0      326          2      0.00  1  1  1       111              3\n",
       "1     12347.0        3          7   4310.00  4  1  2       412              7\n",
       "2     12348.0       76          4   1797.24  2  1  2       212              5"
      ]
     },
     "execution_count": 57,
     "metadata": {},
     "output_type": "execute_result"
    }
   ],
   "source": [
    "# Creating New Column RFM_Score_Sum\n",
    "RFM_Score['RFM_Score_Sum'] = RFM_Score[['R','F','M']].sum(axis = 1)\n",
    "RFM_Score.head(3)"
   ]
  },
  {
   "cell_type": "code",
   "execution_count": 58,
   "id": "2992bb2e",
   "metadata": {},
   "outputs": [],
   "source": [
    "# Assigning loyality level\n",
    "Loyalty_level = ['Silver', 'Gold', 'Diamond', 'Platinum']"
   ]
  },
  {
   "cell_type": "code",
   "execution_count": 59,
   "id": "6f4d1b07",
   "metadata": {},
   "outputs": [],
   "source": [
    "RFM_Score['Loyalty'] = pd.qcut(RFM_Score.RFM_Score_Sum, q = 4, labels = Loyalty_level)"
   ]
  },
  {
   "cell_type": "code",
   "execution_count": 60,
   "id": "5c986c10",
   "metadata": {},
   "outputs": [
    {
     "data": {
      "text/html": [
       "<div>\n",
       "<style scoped>\n",
       "    .dataframe tbody tr th:only-of-type {\n",
       "        vertical-align: middle;\n",
       "    }\n",
       "\n",
       "    .dataframe tbody tr th {\n",
       "        vertical-align: top;\n",
       "    }\n",
       "\n",
       "    .dataframe thead th {\n",
       "        text-align: right;\n",
       "    }\n",
       "</style>\n",
       "<table border=\"1\" class=\"dataframe\">\n",
       "  <thead>\n",
       "    <tr style=\"text-align: right;\">\n",
       "      <th></th>\n",
       "      <th>CustomerID</th>\n",
       "      <th>Recency</th>\n",
       "      <th>Frequency</th>\n",
       "      <th>Monetary</th>\n",
       "      <th>R</th>\n",
       "      <th>F</th>\n",
       "      <th>M</th>\n",
       "      <th>RFM_Score</th>\n",
       "      <th>RFM_Score_Sum</th>\n",
       "      <th>Loyalty</th>\n",
       "    </tr>\n",
       "  </thead>\n",
       "  <tbody>\n",
       "    <tr>\n",
       "      <th>0</th>\n",
       "      <td>12346.0</td>\n",
       "      <td>326</td>\n",
       "      <td>2</td>\n",
       "      <td>0.00</td>\n",
       "      <td>1</td>\n",
       "      <td>1</td>\n",
       "      <td>1</td>\n",
       "      <td>111</td>\n",
       "      <td>3</td>\n",
       "      <td>Silver</td>\n",
       "    </tr>\n",
       "    <tr>\n",
       "      <th>1</th>\n",
       "      <td>12347.0</td>\n",
       "      <td>3</td>\n",
       "      <td>7</td>\n",
       "      <td>4310.00</td>\n",
       "      <td>4</td>\n",
       "      <td>1</td>\n",
       "      <td>2</td>\n",
       "      <td>412</td>\n",
       "      <td>7</td>\n",
       "      <td>Platinum</td>\n",
       "    </tr>\n",
       "    <tr>\n",
       "      <th>2</th>\n",
       "      <td>12348.0</td>\n",
       "      <td>76</td>\n",
       "      <td>4</td>\n",
       "      <td>1797.24</td>\n",
       "      <td>2</td>\n",
       "      <td>1</td>\n",
       "      <td>2</td>\n",
       "      <td>212</td>\n",
       "      <td>5</td>\n",
       "      <td>Gold</td>\n",
       "    </tr>\n",
       "  </tbody>\n",
       "</table>\n",
       "</div>"
      ],
      "text/plain": [
       "   CustomerID  Recency  Frequency  Monetary  R  F  M RFM_Score  RFM_Score_Sum  \\\n",
       "0     12346.0      326          2      0.00  1  1  1       111              3   \n",
       "1     12347.0        3          7   4310.00  4  1  2       412              7   \n",
       "2     12348.0       76          4   1797.24  2  1  2       212              5   \n",
       "\n",
       "    Loyalty  \n",
       "0    Silver  \n",
       "1  Platinum  \n",
       "2      Gold  "
      ]
     },
     "execution_count": 60,
     "metadata": {},
     "output_type": "execute_result"
    }
   ],
   "source": [
    "RFM_Score.head(3)"
   ]
  },
  {
   "cell_type": "code",
   "execution_count": 61,
   "id": "6c8ee55b",
   "metadata": {},
   "outputs": [
    {
     "data": {
      "text/html": [
       "<div>\n",
       "<style scoped>\n",
       "    .dataframe tbody tr th:only-of-type {\n",
       "        vertical-align: middle;\n",
       "    }\n",
       "\n",
       "    .dataframe tbody tr th {\n",
       "        vertical-align: top;\n",
       "    }\n",
       "\n",
       "    .dataframe thead th {\n",
       "        text-align: right;\n",
       "    }\n",
       "</style>\n",
       "<table border=\"1\" class=\"dataframe\">\n",
       "  <thead>\n",
       "    <tr style=\"text-align: right;\">\n",
       "      <th></th>\n",
       "      <th>RFM_Score_Sum</th>\n",
       "      <th>Loyalty</th>\n",
       "    </tr>\n",
       "  </thead>\n",
       "  <tbody>\n",
       "    <tr>\n",
       "      <th>0</th>\n",
       "      <td>3</td>\n",
       "      <td>Silver</td>\n",
       "    </tr>\n",
       "    <tr>\n",
       "      <th>1</th>\n",
       "      <td>4</td>\n",
       "      <td>Silver</td>\n",
       "    </tr>\n",
       "    <tr>\n",
       "      <th>2</th>\n",
       "      <td>5</td>\n",
       "      <td>Gold</td>\n",
       "    </tr>\n",
       "    <tr>\n",
       "      <th>3</th>\n",
       "      <td>6</td>\n",
       "      <td>Diamond</td>\n",
       "    </tr>\n",
       "    <tr>\n",
       "      <th>4</th>\n",
       "      <td>7</td>\n",
       "      <td>Platinum</td>\n",
       "    </tr>\n",
       "    <tr>\n",
       "      <th>5</th>\n",
       "      <td>8</td>\n",
       "      <td>Platinum</td>\n",
       "    </tr>\n",
       "    <tr>\n",
       "      <th>6</th>\n",
       "      <td>9</td>\n",
       "      <td>Platinum</td>\n",
       "    </tr>\n",
       "    <tr>\n",
       "      <th>7</th>\n",
       "      <td>10</td>\n",
       "      <td>Platinum</td>\n",
       "    </tr>\n",
       "    <tr>\n",
       "      <th>8</th>\n",
       "      <td>11</td>\n",
       "      <td>Platinum</td>\n",
       "    </tr>\n",
       "    <tr>\n",
       "      <th>9</th>\n",
       "      <td>12</td>\n",
       "      <td>Platinum</td>\n",
       "    </tr>\n",
       "  </tbody>\n",
       "</table>\n",
       "</div>"
      ],
      "text/plain": [
       "   RFM_Score_Sum   Loyalty\n",
       "0              3    Silver\n",
       "1              4    Silver\n",
       "2              5      Gold\n",
       "3              6   Diamond\n",
       "4              7  Platinum\n",
       "5              8  Platinum\n",
       "6              9  Platinum\n",
       "7             10  Platinum\n",
       "8             11  Platinum\n",
       "9             12  Platinum"
      ]
     },
     "execution_count": 61,
     "metadata": {},
     "output_type": "execute_result"
    }
   ],
   "source": [
    "data = RFM_Score[['RFM_Score_Sum','Loyalty']].drop_duplicates().sort_values(by = 'RFM_Score_Sum' )\n",
    "data = data.reset_index(drop = True)\n",
    "data"
   ]
  },
  {
   "cell_type": "markdown",
   "id": "107dba05",
   "metadata": {},
   "source": [
    "##### Observations:\n",
    "- If RFM score is 3 or 4 the customer belongs to 'Silver' category\n",
    "- If RFM score is 5 the customer belongs to 'Gold' category\n",
    "- If RFM score is 6 the customer belongs to 'Diamond' category\n",
    "- If RFM score ranges between 7 to 12 then the customer belongs to 'Platinum' category"
   ]
  },
  {
   "cell_type": "code",
   "execution_count": 62,
   "id": "955a2bee",
   "metadata": {
    "scrolled": true
   },
   "outputs": [
    {
     "data": {
      "text/plain": [
       "Silver      1714\n",
       "Diamond     1046\n",
       "Platinum     898\n",
       "Gold         714\n",
       "Name: Loyalty, dtype: int64"
      ]
     },
     "execution_count": 62,
     "metadata": {},
     "output_type": "execute_result"
    }
   ],
   "source": [
    "# calcualting the total count of each unique category\n",
    "RFM_Score['Loyalty'].value_counts()"
   ]
  },
  {
   "cell_type": "markdown",
   "id": "96cb2ba6",
   "metadata": {},
   "source": [
    "##### Observations:\n",
    "- Total 1714 nos. of customer belongs to 'Silver' category\n",
    "- Total 714 nos. of customer belongs to 'Gold' category\n",
    "- Total 1046 nos. of customer belongs to 'Diamond' category\n",
    "- Total 898 nos. of customer belongs to 'Platinum' category"
   ]
  },
  {
   "cell_type": "markdown",
   "id": "48422a47",
   "metadata": {},
   "source": [
    "###### Visualization"
   ]
  },
  {
   "cell_type": "code",
   "execution_count": 159,
   "id": "dd964e21",
   "metadata": {
    "scrolled": true
   },
   "outputs": [
    {
     "data": {
      "image/png": "[encoded data removed]",
      "text/plain": [
       "<Figure size 576x396 with 1 Axes>"
      ]
     },
     "metadata": {},
     "output_type": "display_data"
    }
   ],
   "source": [
    "# Recency\n",
    "sns.scatterplot(x = 'Recency', y = 'RFM_Score_Sum', hue = 'Loyalty', data = RFM_Score)\n",
    "plt.xlabel('Recency',size = 13)\n",
    "plt.ylabel('RFM_Score', size = 13)\n",
    "plt.show()"
   ]
  },
  {
   "cell_type": "code",
   "execution_count": 64,
   "id": "64f6f216",
   "metadata": {},
   "outputs": [
    {
     "name": "stdout",
     "output_type": "stream",
     "text": [
      "Total nos. of customer having recency less than 10 days: 686 nos.\n"
     ]
    }
   ],
   "source": [
    "print('Total nos. of customer having recency less than 10 days:',(RFM_Score[RFM_Score[\"Recency\"]<10][\"Recency\"]).count(), 'nos.')"
   ]
  },
  {
   "cell_type": "markdown",
   "id": "a7e34942",
   "metadata": {},
   "source": [
    "##### Observations:\n",
    "- If RFM score is 3 or 4 the customer belongs to 'Silver' category\n",
    "- If RFM score is 5 the customer belongs to 'Gold' category\n",
    "- If RFM score is 6 the customer belongs to 'Diamond' category\n",
    "- If RFM score ranges between 7 to 12 then the customer belongs to 'Platinum' category\n",
    "- Customer having recency less than 10 days belongs to 'Diamond & Platinum' category"
   ]
  },
  {
   "cell_type": "code",
   "execution_count": 65,
   "id": "59decaa3",
   "metadata": {},
   "outputs": [
    {
     "data": {
      "image/png": "[encoded data removed]",
      "text/plain": [
       "<Figure size 432x288 with 1 Axes>"
      ]
     },
     "metadata": {},
     "output_type": "display_data"
    }
   ],
   "source": [
    "# Frequency\n",
    "sns.scatterplot(x = 'Frequency', y = 'RFM_Score_Sum', hue = 'Loyalty',data = RFM_Score)\n",
    "plt.show()"
   ]
  },
  {
   "cell_type": "code",
   "execution_count": 165,
   "id": "3de7129b",
   "metadata": {},
   "outputs": [
    {
     "name": "stdout",
     "output_type": "stream",
     "text": [
      "Total nos. of customer having frequency more than 50 days: 24 nos.\n"
     ]
    }
   ],
   "source": [
    "print('Total nos. of customer having frequency more than 50 days:',(RFM_Score[RFM_Score[\"Frequency\"]>50][\"Frequency\"]).count(), 'nos.')"
   ]
  },
  {
   "cell_type": "markdown",
   "id": "ea691e10",
   "metadata": {},
   "source": [
    "##### Observations\n",
    "- Total 24 nos. of customers has generated invoice more than 50 times & they belong to platinum category"
   ]
  },
  {
   "cell_type": "code",
   "execution_count": 66,
   "id": "e526695a",
   "metadata": {},
   "outputs": [
    {
     "data": {
      "image/png": "[encoded data removed]",
      "text/plain": [
       "<Figure size 432x288 with 1 Axes>"
      ]
     },
     "metadata": {},
     "output_type": "display_data"
    }
   ],
   "source": [
    "# Monetary\n",
    "sns.scatterplot(x = 'Monetary', y = 'RFM_Score_Sum', hue = 'Loyalty',data = RFM_Score)\n",
    "plt.show()"
   ]
  },
  {
   "cell_type": "code",
   "execution_count": 67,
   "id": "0ff8ee42",
   "metadata": {},
   "outputs": [
    {
     "name": "stdout",
     "output_type": "stream",
     "text": [
      "Total nos. of customers purchasing above 50k : 18 nos.\n"
     ]
    }
   ],
   "source": [
    "print('Total nos. of customers purchasing above 50k :',(RFM_Score[RFM_Score[\"Monetary\"]>50000][\"Monetary\"]).count(), 'nos.')"
   ]
  },
  {
   "cell_type": "code",
   "execution_count": 179,
   "id": "9374de0c",
   "metadata": {
    "scrolled": true
   },
   "outputs": [
    {
     "data": {
      "image/png": "[encoded data removed]",
      "text/plain": [
       "<Figure size 576x396 with 1 Axes>"
      ]
     },
     "metadata": {},
     "output_type": "display_data"
    }
   ],
   "source": [
    "plt.pie(RFM_Score['Loyalty'].value_counts() , labels =  RFM_Score['Loyalty'].value_counts().index,autopct = '%0.02f%%', explode = [0.08,0,0,0.08],radius = 1.2)\n",
    "plt.show()"
   ]
  },
  {
   "cell_type": "markdown",
   "id": "0ada02fa",
   "metadata": {},
   "source": [
    "##### Observations:\n",
    "- 39.2% of customers belongs to Silver category \n",
    "- 16.33% of customers belongs to Gold category\n",
    "- 23.92% of customers belongs to Diamond category\n",
    "- 20.54% of customers belongs to Platinum category\n",
    "- Most of the customers belongs to Silver category & followed by Gold category\n",
    "- Need to pay attention to customers belongs to Silver category\n",
    "- Customers falling under Diamond & Platinum category are promising & loyal customers "
   ]
  },
  {
   "cell_type": "markdown",
   "id": "39021c31",
   "metadata": {},
   "source": [
    "## Applying K-means algorithm"
   ]
  },
  {
   "cell_type": "code",
   "execution_count": 69,
   "id": "621c6158",
   "metadata": {},
   "outputs": [
    {
     "data": {
      "image/png": "[encoded data removed]",
      "text/plain": [
       "<Figure size 576x396 with 2 Axes>"
      ]
     },
     "metadata": {},
     "output_type": "display_data"
    },
    {
     "data": {
      "text/plain": [
       "<AxesSubplot:title={'center':'Distortion Score Elbow for KMeans Clustering'}, xlabel='k', ylabel='distortion score'>"
      ]
     },
     "execution_count": 69,
     "metadata": {},
     "output_type": "execute_result"
    }
   ],
   "source": [
    "from sklearn.cluster import KMeans\n",
    "from yellowbrick.cluster import KElbowVisualizer\n",
    "model = KMeans()\n",
    "visualizer = KElbowVisualizer(model, k=(1,30))\n",
    "visualizer.fit(RFM_Score[['RFM_Score_Sum']])     \n",
    "visualizer.show() "
   ]
  },
  {
   "cell_type": "code",
   "execution_count": 70,
   "id": "77aa26ef",
   "metadata": {},
   "outputs": [
    {
     "data": {
      "text/plain": [
       "array([4, 2, 1, ..., 3, 2, 3])"
      ]
     },
     "execution_count": 70,
     "metadata": {},
     "output_type": "execute_result"
    }
   ],
   "source": [
    "# Fitting K-Means to the dataset\n",
    "kmeans = KMeans(n_clusters = 6, init=\"k-means++\", random_state = 42)\n",
    "k_means = kmeans.fit_predict(RFM_Score[['RFM_Score_Sum']]) \n",
    "k_means "
   ]
  },
  {
   "cell_type": "code",
   "execution_count": 71,
   "id": "b50bfb71",
   "metadata": {},
   "outputs": [
    {
     "data": {
      "text/html": [
       "<div>\n",
       "<style scoped>\n",
       "    .dataframe tbody tr th:only-of-type {\n",
       "        vertical-align: middle;\n",
       "    }\n",
       "\n",
       "    .dataframe tbody tr th {\n",
       "        vertical-align: top;\n",
       "    }\n",
       "\n",
       "    .dataframe thead th {\n",
       "        text-align: right;\n",
       "    }\n",
       "</style>\n",
       "<table border=\"1\" class=\"dataframe\">\n",
       "  <thead>\n",
       "    <tr style=\"text-align: right;\">\n",
       "      <th></th>\n",
       "      <th>CustomerID</th>\n",
       "      <th>Recency</th>\n",
       "      <th>Frequency</th>\n",
       "      <th>Monetary</th>\n",
       "      <th>R</th>\n",
       "      <th>F</th>\n",
       "      <th>M</th>\n",
       "      <th>RFM_Score</th>\n",
       "      <th>RFM_Score_Sum</th>\n",
       "      <th>Loyalty</th>\n",
       "      <th>Clusters</th>\n",
       "    </tr>\n",
       "  </thead>\n",
       "  <tbody>\n",
       "    <tr>\n",
       "      <th>4367</th>\n",
       "      <td>18280.0</td>\n",
       "      <td>278</td>\n",
       "      <td>1</td>\n",
       "      <td>180.60</td>\n",
       "      <td>1</td>\n",
       "      <td>1</td>\n",
       "      <td>1</td>\n",
       "      <td>111</td>\n",
       "      <td>3</td>\n",
       "      <td>Silver</td>\n",
       "      <td>4</td>\n",
       "    </tr>\n",
       "    <tr>\n",
       "      <th>4368</th>\n",
       "      <td>18281.0</td>\n",
       "      <td>181</td>\n",
       "      <td>1</td>\n",
       "      <td>80.82</td>\n",
       "      <td>1</td>\n",
       "      <td>1</td>\n",
       "      <td>1</td>\n",
       "      <td>111</td>\n",
       "      <td>3</td>\n",
       "      <td>Silver</td>\n",
       "      <td>4</td>\n",
       "    </tr>\n",
       "    <tr>\n",
       "      <th>4369</th>\n",
       "      <td>18282.0</td>\n",
       "      <td>8</td>\n",
       "      <td>3</td>\n",
       "      <td>176.60</td>\n",
       "      <td>4</td>\n",
       "      <td>1</td>\n",
       "      <td>1</td>\n",
       "      <td>411</td>\n",
       "      <td>6</td>\n",
       "      <td>Diamond</td>\n",
       "      <td>3</td>\n",
       "    </tr>\n",
       "    <tr>\n",
       "      <th>4370</th>\n",
       "      <td>18283.0</td>\n",
       "      <td>4</td>\n",
       "      <td>16</td>\n",
       "      <td>2045.53</td>\n",
       "      <td>4</td>\n",
       "      <td>1</td>\n",
       "      <td>2</td>\n",
       "      <td>412</td>\n",
       "      <td>7</td>\n",
       "      <td>Platinum</td>\n",
       "      <td>2</td>\n",
       "    </tr>\n",
       "    <tr>\n",
       "      <th>4371</th>\n",
       "      <td>18287.0</td>\n",
       "      <td>43</td>\n",
       "      <td>3</td>\n",
       "      <td>1837.28</td>\n",
       "      <td>3</td>\n",
       "      <td>1</td>\n",
       "      <td>2</td>\n",
       "      <td>312</td>\n",
       "      <td>6</td>\n",
       "      <td>Diamond</td>\n",
       "      <td>3</td>\n",
       "    </tr>\n",
       "  </tbody>\n",
       "</table>\n",
       "</div>"
      ],
      "text/plain": [
       "      CustomerID  Recency  Frequency  Monetary  R  F  M RFM_Score  \\\n",
       "4367     18280.0      278          1    180.60  1  1  1       111   \n",
       "4368     18281.0      181          1     80.82  1  1  1       111   \n",
       "4369     18282.0        8          3    176.60  4  1  1       411   \n",
       "4370     18283.0        4         16   2045.53  4  1  2       412   \n",
       "4371     18287.0       43          3   1837.28  3  1  2       312   \n",
       "\n",
       "      RFM_Score_Sum   Loyalty  Clusters  \n",
       "4367              3    Silver         4  \n",
       "4368              3    Silver         4  \n",
       "4369              6   Diamond         3  \n",
       "4370              7  Platinum         2  \n",
       "4371              6   Diamond         3  "
      ]
     },
     "execution_count": 71,
     "metadata": {},
     "output_type": "execute_result"
    }
   ],
   "source": [
    "# Creating New Column\n",
    "RFM_Score[\"Clusters\"]= kmeans.labels_\n",
    "RFM_Score.tail(5)"
   ]
  },
  {
   "cell_type": "markdown",
   "id": "8829876b",
   "metadata": {},
   "source": [
    "##### Silhouette_score"
   ]
  },
  {
   "cell_type": "code",
   "execution_count": 72,
   "id": "e8ac73a1",
   "metadata": {},
   "outputs": [
    {
     "name": "stdout",
     "output_type": "stream",
     "text": [
      "0.9645909119911461\n"
     ]
    }
   ],
   "source": [
    "# Silhouette_score\n",
    "labels=kmeans.labels_\n",
    "from sklearn.metrics import silhouette_score\n",
    "print(silhouette_score(RFM_Score[['RFM_Score_Sum']],labels))"
   ]
  },
  {
   "cell_type": "markdown",
   "id": "b28dc187",
   "metadata": {},
   "source": [
    "##### Creating segments based on clusters"
   ]
  },
  {
   "cell_type": "code",
   "execution_count": 74,
   "id": "0628dd15",
   "metadata": {},
   "outputs": [],
   "source": [
    "def Cluster_Names(x):\n",
    "    if x == 0:\n",
    "        return 'At Risk'\n",
    "    elif x == 1:\n",
    "        return 'Nurture'\n",
    "    elif x == 2:\n",
    "        return 'Promising'\n",
    "    elif x == 3:\n",
    "        return 'Target Upshell'\n",
    "    elif x == 4:\n",
    "        return 'Inactive'\n",
    "    else:\n",
    "        return 'Drive Loyalty'"
   ]
  },
  {
   "cell_type": "code",
   "execution_count": 75,
   "id": "1e6f45e0",
   "metadata": {},
   "outputs": [],
   "source": [
    "RFM_Score[\"Clusters_Name\"] = RFM_Score[\"Clusters\"]\n",
    "RFM_Score[\"Clusters_Name\"] = [Cluster_Names(x) for x in RFM_Score.Clusters_Name]"
   ]
  },
  {
   "cell_type": "code",
   "execution_count": 76,
   "id": "d5a83dae",
   "metadata": {},
   "outputs": [
    {
     "data": {
      "text/html": [
       "<div>\n",
       "<style scoped>\n",
       "    .dataframe tbody tr th:only-of-type {\n",
       "        vertical-align: middle;\n",
       "    }\n",
       "\n",
       "    .dataframe tbody tr th {\n",
       "        vertical-align: top;\n",
       "    }\n",
       "\n",
       "    .dataframe thead th {\n",
       "        text-align: right;\n",
       "    }\n",
       "</style>\n",
       "<table border=\"1\" class=\"dataframe\">\n",
       "  <thead>\n",
       "    <tr style=\"text-align: right;\">\n",
       "      <th></th>\n",
       "      <th>CustomerID</th>\n",
       "      <th>Recency</th>\n",
       "      <th>Frequency</th>\n",
       "      <th>Monetary</th>\n",
       "      <th>R</th>\n",
       "      <th>F</th>\n",
       "      <th>M</th>\n",
       "      <th>RFM_Score</th>\n",
       "      <th>RFM_Score_Sum</th>\n",
       "      <th>Loyalty</th>\n",
       "      <th>Clusters</th>\n",
       "      <th>Clusters_Name</th>\n",
       "    </tr>\n",
       "  </thead>\n",
       "  <tbody>\n",
       "    <tr>\n",
       "      <th>0</th>\n",
       "      <td>12346.0</td>\n",
       "      <td>326</td>\n",
       "      <td>2</td>\n",
       "      <td>0.00</td>\n",
       "      <td>1</td>\n",
       "      <td>1</td>\n",
       "      <td>1</td>\n",
       "      <td>111</td>\n",
       "      <td>3</td>\n",
       "      <td>Silver</td>\n",
       "      <td>4</td>\n",
       "      <td>Inactive</td>\n",
       "    </tr>\n",
       "    <tr>\n",
       "      <th>1</th>\n",
       "      <td>12347.0</td>\n",
       "      <td>3</td>\n",
       "      <td>7</td>\n",
       "      <td>4310.00</td>\n",
       "      <td>4</td>\n",
       "      <td>1</td>\n",
       "      <td>2</td>\n",
       "      <td>412</td>\n",
       "      <td>7</td>\n",
       "      <td>Platinum</td>\n",
       "      <td>2</td>\n",
       "      <td>Promising</td>\n",
       "    </tr>\n",
       "    <tr>\n",
       "      <th>2</th>\n",
       "      <td>12348.0</td>\n",
       "      <td>76</td>\n",
       "      <td>4</td>\n",
       "      <td>1797.24</td>\n",
       "      <td>2</td>\n",
       "      <td>1</td>\n",
       "      <td>2</td>\n",
       "      <td>212</td>\n",
       "      <td>5</td>\n",
       "      <td>Gold</td>\n",
       "      <td>1</td>\n",
       "      <td>Nurture</td>\n",
       "    </tr>\n",
       "    <tr>\n",
       "      <th>3</th>\n",
       "      <td>12349.0</td>\n",
       "      <td>19</td>\n",
       "      <td>1</td>\n",
       "      <td>1757.55</td>\n",
       "      <td>4</td>\n",
       "      <td>1</td>\n",
       "      <td>2</td>\n",
       "      <td>412</td>\n",
       "      <td>7</td>\n",
       "      <td>Platinum</td>\n",
       "      <td>2</td>\n",
       "      <td>Promising</td>\n",
       "    </tr>\n",
       "    <tr>\n",
       "      <th>4</th>\n",
       "      <td>12350.0</td>\n",
       "      <td>311</td>\n",
       "      <td>1</td>\n",
       "      <td>334.40</td>\n",
       "      <td>1</td>\n",
       "      <td>1</td>\n",
       "      <td>1</td>\n",
       "      <td>111</td>\n",
       "      <td>3</td>\n",
       "      <td>Silver</td>\n",
       "      <td>4</td>\n",
       "      <td>Inactive</td>\n",
       "    </tr>\n",
       "  </tbody>\n",
       "</table>\n",
       "</div>"
      ],
      "text/plain": [
       "   CustomerID  Recency  Frequency  Monetary  R  F  M RFM_Score  RFM_Score_Sum  \\\n",
       "0     12346.0      326          2      0.00  1  1  1       111              3   \n",
       "1     12347.0        3          7   4310.00  4  1  2       412              7   \n",
       "2     12348.0       76          4   1797.24  2  1  2       212              5   \n",
       "3     12349.0       19          1   1757.55  4  1  2       412              7   \n",
       "4     12350.0      311          1    334.40  1  1  1       111              3   \n",
       "\n",
       "    Loyalty  Clusters Clusters_Name  \n",
       "0    Silver         4      Inactive  \n",
       "1  Platinum         2     Promising  \n",
       "2      Gold         1       Nurture  \n",
       "3  Platinum         2     Promising  \n",
       "4    Silver         4      Inactive  "
      ]
     },
     "execution_count": 76,
     "metadata": {},
     "output_type": "execute_result"
    }
   ],
   "source": [
    "RFM_Score.head(5)"
   ]
  },
  {
   "cell_type": "code",
   "execution_count": 77,
   "id": "4fad2687",
   "metadata": {},
   "outputs": [
    {
     "data": {
      "image/png": "[encoded data removed]",
      "text/plain": [
       "<Figure size 720x288 with 1 Axes>"
      ]
     },
     "metadata": {},
     "output_type": "display_data"
    }
   ],
   "source": [
    "plt.figure(figsize = (10,4))\n",
    "sns.countplot(x = RFM_Score['Clusters_Name'], hue = RFM_Score['Clusters'], order = ['At Risk', 'Nurture', 'Promising', 'Target Upshell', 'Inactive', 'Drive Loyalty'])\n",
    "plt.show()"
   ]
  },
  {
   "cell_type": "markdown",
   "id": "8d02813b",
   "metadata": {},
   "source": [
    "##### Observations"
   ]
  },
  {
   "cell_type": "code",
   "execution_count": 187,
   "id": "d5fd616d",
   "metadata": {},
   "outputs": [
    {
     "name": "stdout",
     "output_type": "stream",
     "text": [
      "Total number of customers belongs to at-risk category : 897 nos.\n"
     ]
    }
   ],
   "source": [
    "print('Total number of customers belongs to at-risk category :',RFM_Score[RFM_Score['Clusters_Name']=='At Risk']['Clusters_Name'].count(), 'nos.')"
   ]
  },
  {
   "cell_type": "code",
   "execution_count": 188,
   "id": "4cea61a2",
   "metadata": {},
   "outputs": [
    {
     "name": "stdout",
     "output_type": "stream",
     "text": [
      "Total number of customers belongs to nurture category : 714 nos.\n"
     ]
    }
   ],
   "source": [
    "print('Total number of customers belongs to nurture category :',RFM_Score[RFM_Score['Clusters_Name']=='Nurture']['Clusters_Name'].count(), 'nos.')"
   ]
  },
  {
   "cell_type": "code",
   "execution_count": 189,
   "id": "7ef654fa",
   "metadata": {
    "scrolled": false
   },
   "outputs": [
    {
     "name": "stdout",
     "output_type": "stream",
     "text": [
      "Total number of promising customers : 839 nos.\n"
     ]
    }
   ],
   "source": [
    "print('Total number of promising customers :',RFM_Score[RFM_Score['Clusters_Name']=='Promising']['Clusters_Name'].count(), 'nos.')"
   ]
  },
  {
   "cell_type": "code",
   "execution_count": 190,
   "id": "c4ad87cd",
   "metadata": {},
   "outputs": [
    {
     "name": "stdout",
     "output_type": "stream",
     "text": [
      "Total number of customers belongs to target upshell category : 1046 nos.\n"
     ]
    }
   ],
   "source": [
    "print('Total number of customers belongs to target upshell category :',RFM_Score[RFM_Score['Clusters_Name']=='Target Upshell']['Clusters_Name'].count(), 'nos.')"
   ]
  },
  {
   "cell_type": "code",
   "execution_count": 191,
   "id": "7907f433",
   "metadata": {},
   "outputs": [
    {
     "name": "stdout",
     "output_type": "stream",
     "text": [
      "Total number of inactive customers : 817 nos.\n"
     ]
    }
   ],
   "source": [
    "print('Total number of inactive customers :',RFM_Score[RFM_Score['Clusters_Name']=='Inactive']['Clusters_Name'].count(), 'nos.')"
   ]
  },
  {
   "cell_type": "code",
   "execution_count": 192,
   "id": "bfcbce32",
   "metadata": {},
   "outputs": [
    {
     "name": "stdout",
     "output_type": "stream",
     "text": [
      "Total number of customers belong to drive loyalty category : 59 nos.\n"
     ]
    }
   ],
   "source": [
    "print('Total number of customers belong to drive loyalty category :',RFM_Score[RFM_Score['Clusters_Name']=='Drive Loyalty']['Clusters_Name'].count(), 'nos.')"
   ]
  },
  {
   "cell_type": "markdown",
   "id": "f30343e6",
   "metadata": {},
   "source": [
    "##### Analyzing the data based on numbers of invoice genrated per day, seasons wise or time of the day visited"
   ]
  },
  {
   "cell_type": "code",
   "execution_count": 194,
   "id": "3cf764de",
   "metadata": {},
   "outputs": [],
   "source": [
    "# Converting object into datetime format"
   ]
  },
  {
   "cell_type": "code",
   "execution_count": 84,
   "id": "e44c2562",
   "metadata": {},
   "outputs": [],
   "source": [
    "customer_seg_c[\"InvoiceDate\"]=pd.to_datetime(customer_seg_c[\"InvoiceDate\"])"
   ]
  },
  {
   "cell_type": "code",
   "execution_count": 85,
   "id": "d6645639",
   "metadata": {},
   "outputs": [
    {
     "data": {
      "text/html": [
       "<div>\n",
       "<style scoped>\n",
       "    .dataframe tbody tr th:only-of-type {\n",
       "        vertical-align: middle;\n",
       "    }\n",
       "\n",
       "    .dataframe tbody tr th {\n",
       "        vertical-align: top;\n",
       "    }\n",
       "\n",
       "    .dataframe thead th {\n",
       "        text-align: right;\n",
       "    }\n",
       "</style>\n",
       "<table border=\"1\" class=\"dataframe\">\n",
       "  <thead>\n",
       "    <tr style=\"text-align: right;\">\n",
       "      <th></th>\n",
       "      <th>InvoiceNo</th>\n",
       "      <th>InvoiceDate</th>\n",
       "      <th>Country</th>\n",
       "      <th>CustomerID</th>\n",
       "    </tr>\n",
       "  </thead>\n",
       "  <tbody>\n",
       "    <tr>\n",
       "      <th>0</th>\n",
       "      <td>536365</td>\n",
       "      <td>2010-12-01 08:26:00</td>\n",
       "      <td>United Kingdom</td>\n",
       "      <td>17850.0</td>\n",
       "    </tr>\n",
       "    <tr>\n",
       "      <th>1</th>\n",
       "      <td>536366</td>\n",
       "      <td>2010-12-01 08:28:00</td>\n",
       "      <td>United Kingdom</td>\n",
       "      <td>17850.0</td>\n",
       "    </tr>\n",
       "    <tr>\n",
       "      <th>2</th>\n",
       "      <td>536367</td>\n",
       "      <td>2010-12-01 08:34:00</td>\n",
       "      <td>United Kingdom</td>\n",
       "      <td>13047.0</td>\n",
       "    </tr>\n",
       "    <tr>\n",
       "      <th>3</th>\n",
       "      <td>536368</td>\n",
       "      <td>2010-12-01 08:34:00</td>\n",
       "      <td>United Kingdom</td>\n",
       "      <td>13047.0</td>\n",
       "    </tr>\n",
       "    <tr>\n",
       "      <th>4</th>\n",
       "      <td>536369</td>\n",
       "      <td>2010-12-01 08:35:00</td>\n",
       "      <td>United Kingdom</td>\n",
       "      <td>13047.0</td>\n",
       "    </tr>\n",
       "  </tbody>\n",
       "</table>\n",
       "</div>"
      ],
      "text/plain": [
       "  InvoiceNo         InvoiceDate         Country  CustomerID\n",
       "0    536365 2010-12-01 08:26:00  United Kingdom     17850.0\n",
       "1    536366 2010-12-01 08:28:00  United Kingdom     17850.0\n",
       "2    536367 2010-12-01 08:34:00  United Kingdom     13047.0\n",
       "3    536368 2010-12-01 08:34:00  United Kingdom     13047.0\n",
       "4    536369 2010-12-01 08:35:00  United Kingdom     13047.0"
      ]
     },
     "execution_count": 85,
     "metadata": {},
     "output_type": "execute_result"
    }
   ],
   "source": [
    "df = customer_seg_c[['InvoiceNo','InvoiceDate', 'Country', 'CustomerID']]\n",
    "df = df.groupby('InvoiceNo').first()\n",
    "df = df.reset_index()\n",
    "df.head()"
   ]
  },
  {
   "cell_type": "code",
   "execution_count": 86,
   "id": "c43e9e56",
   "metadata": {},
   "outputs": [],
   "source": [
    "# Extraction of day from invoicedate column\n",
    "import datetime as dt\n",
    "df['Day'] = df['InvoiceDate'].dt.day_name()"
   ]
  },
  {
   "cell_type": "code",
   "execution_count": 87,
   "id": "4c4954ef",
   "metadata": {},
   "outputs": [],
   "source": [
    "# Extraction of month from invoicedate column\n",
    "import datetime as dt\n",
    "df['Month'] = df['InvoiceDate'].dt.month"
   ]
  },
  {
   "cell_type": "code",
   "execution_count": 88,
   "id": "e7539710",
   "metadata": {},
   "outputs": [],
   "source": [
    "# Adding seasons column"
   ]
  },
  {
   "cell_type": "code",
   "execution_count": 89,
   "id": "f5ab4e8a",
   "metadata": {},
   "outputs": [],
   "source": [
    "def month(x):\n",
    "    if x in range(3,6):\n",
    "        return 'Summer'\n",
    "    elif x in range(6,9):\n",
    "        return 'Monsoon'\n",
    "    elif x in range(9,12):\n",
    "        return 'Pre-Winter'\n",
    "    else:\n",
    "        return 'Winter'"
   ]
  },
  {
   "cell_type": "code",
   "execution_count": 90,
   "id": "b95095e3",
   "metadata": {},
   "outputs": [],
   "source": [
    "df[\"Seasons\"] = df[\"Month\"]\n",
    "df[\"Seasons\"] = [month(x) for x in df.Seasons]"
   ]
  },
  {
   "cell_type": "code",
   "execution_count": 91,
   "id": "b29c1973",
   "metadata": {},
   "outputs": [],
   "source": [
    "# Extraction of day-time from invoicedate column\n",
    "import datetime as dt\n",
    "df['Day_hour'] = df['InvoiceDate'].dt.hour"
   ]
  },
  {
   "cell_type": "code",
   "execution_count": 92,
   "id": "36eba862",
   "metadata": {},
   "outputs": [],
   "source": [
    "# Adding seasons day-time column"
   ]
  },
  {
   "cell_type": "code",
   "execution_count": 238,
   "id": "370e1115",
   "metadata": {},
   "outputs": [],
   "source": [
    "def day_time(x):\n",
    "    if x in range(5,12):\n",
    "        return 'Morning'\n",
    "    elif x in range(12,17):\n",
    "        return 'Afternoon'\n",
    "    elif x in range(17,21):\n",
    "        return 'Evening'\n",
    "    else:\n",
    "        return 'Night'"
   ]
  },
  {
   "cell_type": "code",
   "execution_count": 239,
   "id": "a3b4d502",
   "metadata": {},
   "outputs": [],
   "source": [
    "df[\"Visited_time\"] = df[\"Day_hour\"]\n",
    "df[\"Visited_time\"] = [day_time(x) for x in df.Day_hour]"
   ]
  },
  {
   "cell_type": "code",
   "execution_count": 274,
   "id": "c2a66503",
   "metadata": {
    "scrolled": true
   },
   "outputs": [
    {
     "data": {
      "text/html": [
       "<div>\n",
       "<style scoped>\n",
       "    .dataframe tbody tr th:only-of-type {\n",
       "        vertical-align: middle;\n",
       "    }\n",
       "\n",
       "    .dataframe tbody tr th {\n",
       "        vertical-align: top;\n",
       "    }\n",
       "\n",
       "    .dataframe thead th {\n",
       "        text-align: right;\n",
       "    }\n",
       "</style>\n",
       "<table border=\"1\" class=\"dataframe\">\n",
       "  <thead>\n",
       "    <tr style=\"text-align: right;\">\n",
       "      <th></th>\n",
       "      <th>InvoiceNo</th>\n",
       "      <th>InvoiceDate</th>\n",
       "      <th>Country</th>\n",
       "      <th>CustomerID</th>\n",
       "      <th>Day</th>\n",
       "      <th>Month</th>\n",
       "      <th>Seasons</th>\n",
       "      <th>Day_hour</th>\n",
       "      <th>Visited_time</th>\n",
       "    </tr>\n",
       "  </thead>\n",
       "  <tbody>\n",
       "    <tr>\n",
       "      <th>0</th>\n",
       "      <td>536365</td>\n",
       "      <td>2010-12-01 08:26:00</td>\n",
       "      <td>United Kingdom</td>\n",
       "      <td>17850.0</td>\n",
       "      <td>Wednesday</td>\n",
       "      <td>12</td>\n",
       "      <td>Winter</td>\n",
       "      <td>8</td>\n",
       "      <td>Morning</td>\n",
       "    </tr>\n",
       "    <tr>\n",
       "      <th>1</th>\n",
       "      <td>536366</td>\n",
       "      <td>2010-12-01 08:28:00</td>\n",
       "      <td>United Kingdom</td>\n",
       "      <td>17850.0</td>\n",
       "      <td>Wednesday</td>\n",
       "      <td>12</td>\n",
       "      <td>Winter</td>\n",
       "      <td>8</td>\n",
       "      <td>Morning</td>\n",
       "    </tr>\n",
       "    <tr>\n",
       "      <th>2</th>\n",
       "      <td>536367</td>\n",
       "      <td>2010-12-01 08:34:00</td>\n",
       "      <td>United Kingdom</td>\n",
       "      <td>13047.0</td>\n",
       "      <td>Wednesday</td>\n",
       "      <td>12</td>\n",
       "      <td>Winter</td>\n",
       "      <td>8</td>\n",
       "      <td>Morning</td>\n",
       "    </tr>\n",
       "  </tbody>\n",
       "</table>\n",
       "</div>"
      ],
      "text/plain": [
       "  InvoiceNo         InvoiceDate         Country  CustomerID        Day  Month  \\\n",
       "0    536365 2010-12-01 08:26:00  United Kingdom     17850.0  Wednesday     12   \n",
       "1    536366 2010-12-01 08:28:00  United Kingdom     17850.0  Wednesday     12   \n",
       "2    536367 2010-12-01 08:34:00  United Kingdom     13047.0  Wednesday     12   \n",
       "\n",
       "  Seasons  Day_hour Visited_time  \n",
       "0  Winter         8      Morning  \n",
       "1  Winter         8      Morning  \n",
       "2  Winter         8      Morning  "
      ]
     },
     "execution_count": 274,
     "metadata": {},
     "output_type": "execute_result"
    }
   ],
   "source": [
    "df.head(3)"
   ]
  },
  {
   "cell_type": "markdown",
   "id": "5d0a240a",
   "metadata": {},
   "source": [
    "### Visualization of overall data\n",
    "- visualizing the data based on numbers of invoice generated per day/Season wise/time of day visited"
   ]
  },
  {
   "cell_type": "code",
   "execution_count": 241,
   "id": "d5cc84f4",
   "metadata": {},
   "outputs": [],
   "source": [
    "# No. of invoice generated per day"
   ]
  },
  {
   "cell_type": "code",
   "execution_count": 242,
   "id": "08a3f20e",
   "metadata": {
    "scrolled": true
   },
   "outputs": [
    {
     "data": {
      "image/png": "[encoded data removed]",
      "text/plain": [
       "<Figure size 1080x288 with 1 Axes>"
      ]
     },
     "metadata": {},
     "output_type": "display_data"
    }
   ],
   "source": [
    "plt.figure(figsize = (15,4))\n",
    "sns.barplot(x = df['Day'].value_counts().index, y = df['Day'].value_counts().values)\n",
    "plt.axhline(y = df['Day'].value_counts().mean())\n",
    "plt.title('No. of invoice generated per day', size = 15)\n",
    "plt.xlabel('Weekdays', size = 13)\n",
    "plt.ylabel('Count', size = 13)\n",
    "plt.show()"
   ]
  },
  {
   "cell_type": "code",
   "execution_count": 243,
   "id": "e0d60f5d",
   "metadata": {
    "scrolled": true
   },
   "outputs": [
    {
     "name": "stdout",
     "output_type": "stream",
     "text": [
      "Thursday     4978\n",
      "Wednesday    4110\n",
      "Tuesday      3892\n",
      "Monday       3512\n",
      "Friday       3356\n",
      "Sunday       2342\n",
      "Name: Day, dtype: int64\n"
     ]
    }
   ],
   "source": [
    "print(df['Day'].value_counts())"
   ]
  },
  {
   "cell_type": "markdown",
   "id": "e23144b0",
   "metadata": {},
   "source": [
    "##### Observations :\n",
    "- Most of the invoices were generated on Thursday followed by Wednesday & Tuesday that means most of the customers visits on these days.\n",
    "- Less than average number of invoices generated on Monday, Friday & Sunday that means few customers visit the shopping.mall on these days"
   ]
  },
  {
   "cell_type": "code",
   "execution_count": 244,
   "id": "c82592c9",
   "metadata": {},
   "outputs": [],
   "source": [
    "# No. of invoice generated according to seasons"
   ]
  },
  {
   "cell_type": "code",
   "execution_count": 245,
   "id": "1a6d47b0",
   "metadata": {},
   "outputs": [
    {
     "data": {
      "image/png": "[encoded data removed]",
      "text/plain": [
       "<Figure size 1080x288 with 1 Axes>"
      ]
     },
     "metadata": {},
     "output_type": "display_data"
    }
   ],
   "source": [
    "plt.figure(figsize = (15,4))\n",
    "sns.barplot(x = df['Seasons'].value_counts().index, y = df['Seasons'].value_counts().values)\n",
    "plt.axhline(y = df['Seasons'].value_counts().mean())\n",
    "plt.title('No. of invoice generated according to seasons', size = 15)\n",
    "plt.xlabel('Seasons', size = 13)\n",
    "plt.ylabel('Count', size = 13)\n",
    "plt.show()"
   ]
  },
  {
   "cell_type": "code",
   "execution_count": 246,
   "id": "61353220",
   "metadata": {},
   "outputs": [
    {
     "name": "stdout",
     "output_type": "stream",
     "text": [
      "Pre-Winter    7427\n",
      "Winter        5067\n",
      "Summer        4852\n",
      "Monsoon       4844\n",
      "Name: Seasons, dtype: int64\n"
     ]
    }
   ],
   "source": [
    "print(df['Seasons'].value_counts())"
   ]
  },
  {
   "cell_type": "markdown",
   "id": "577a6fab",
   "metadata": {},
   "source": [
    "##### Observations :\n",
    "- High numbers of invoices were generated during pre-winter seasons\n",
    "- Mall is crowded during pre-winter & winter season"
   ]
  },
  {
   "cell_type": "code",
   "execution_count": null,
   "id": "7f82956f",
   "metadata": {},
   "outputs": [],
   "source": [
    "def day_time(x):\n",
    "    if x in range(5,12):\n",
    "        return 'Morning'\n",
    "    elif x in range(12,17):\n",
    "        return 'Afternoon'\n",
    "    elif x in range(17,21):\n",
    "        return 'Evening'\n",
    "    else:\n",
    "        return 'Night'"
   ]
  },
  {
   "cell_type": "code",
   "execution_count": 247,
   "id": "b2c74b80",
   "metadata": {},
   "outputs": [],
   "source": [
    "# No. of invoice generated by time of the day"
   ]
  },
  {
   "cell_type": "code",
   "execution_count": 248,
   "id": "f59adb88",
   "metadata": {},
   "outputs": [
    {
     "data": {
      "image/png": "[encoded data removed]",
      "text/plain": [
       "<Figure size 1080x288 with 1 Axes>"
      ]
     },
     "metadata": {},
     "output_type": "display_data"
    }
   ],
   "source": [
    "plt.figure(figsize = (15,4))\n",
    "sns.barplot(x = df['Visited_time'].value_counts().index, y = df['Visited_time'].value_counts().values)\n",
    "plt.axhline(y = df['Visited_time'].value_counts().mean())\n",
    "plt.title('No. of invoice generated by time of the day', size = 15)\n",
    "plt.xlabel('Time of day', size = 13)\n",
    "plt.ylabel('Count', size = 13)\n",
    "plt.show()"
   ]
  },
  {
   "cell_type": "code",
   "execution_count": 249,
   "id": "21117f24",
   "metadata": {},
   "outputs": [
    {
     "name": "stdout",
     "output_type": "stream",
     "text": [
      "Afternoon    13180\n",
      "Morning       7666\n",
      "Evening       1344\n",
      "Name: Visited_time, dtype: int64\n"
     ]
    }
   ],
   "source": [
    "print(df['Visited_time'].value_counts())"
   ]
  },
  {
   "cell_type": "markdown",
   "id": "8b177c8a",
   "metadata": {},
   "source": [
    "##### Observations:\n",
    "- High number of customers prefer to visit mall between 12pm to 5pm. As we can see from graph large no of invoices generated during afternoon period"
   ]
  },
  {
   "cell_type": "code",
   "execution_count": null,
   "id": "94c26ee7",
   "metadata": {},
   "outputs": [],
   "source": [
    "def day_time(x):\n",
    "    if x in range(5,12):\n",
    "        return 'Morning'\n",
    "    elif x in range(12,17):\n",
    "        return 'Afternoon'\n",
    "    elif x in range(17,21):\n",
    "        return 'Evening'\n",
    "    else:\n",
    "        return 'Night'"
   ]
  },
  {
   "cell_type": "markdown",
   "id": "644ee59d",
   "metadata": {},
   "source": [
    "## Details of top 3 preforming countries"
   ]
  },
  {
   "cell_type": "markdown",
   "id": "d1159aef",
   "metadata": {},
   "source": [
    "### United Kingdom"
   ]
  },
  {
   "cell_type": "code",
   "execution_count": 251,
   "id": "6fa39436",
   "metadata": {},
   "outputs": [
    {
     "data": {
      "text/html": [
       "<div>\n",
       "<style scoped>\n",
       "    .dataframe tbody tr th:only-of-type {\n",
       "        vertical-align: middle;\n",
       "    }\n",
       "\n",
       "    .dataframe tbody tr th {\n",
       "        vertical-align: top;\n",
       "    }\n",
       "\n",
       "    .dataframe thead th {\n",
       "        text-align: right;\n",
       "    }\n",
       "</style>\n",
       "<table border=\"1\" class=\"dataframe\">\n",
       "  <thead>\n",
       "    <tr style=\"text-align: right;\">\n",
       "      <th></th>\n",
       "      <th>InvoiceNo</th>\n",
       "      <th>InvoiceDate</th>\n",
       "      <th>CustomerID</th>\n",
       "      <th>Day</th>\n",
       "      <th>Seasons</th>\n",
       "      <th>Visited_time</th>\n",
       "    </tr>\n",
       "  </thead>\n",
       "  <tbody>\n",
       "    <tr>\n",
       "      <th>0</th>\n",
       "      <td>536365</td>\n",
       "      <td>2010-12-01 08:26:00</td>\n",
       "      <td>17850.0</td>\n",
       "      <td>Wednesday</td>\n",
       "      <td>Winter</td>\n",
       "      <td>Morning</td>\n",
       "    </tr>\n",
       "    <tr>\n",
       "      <th>1</th>\n",
       "      <td>536366</td>\n",
       "      <td>2010-12-01 08:28:00</td>\n",
       "      <td>17850.0</td>\n",
       "      <td>Wednesday</td>\n",
       "      <td>Winter</td>\n",
       "      <td>Morning</td>\n",
       "    </tr>\n",
       "    <tr>\n",
       "      <th>2</th>\n",
       "      <td>536367</td>\n",
       "      <td>2010-12-01 08:34:00</td>\n",
       "      <td>13047.0</td>\n",
       "      <td>Wednesday</td>\n",
       "      <td>Winter</td>\n",
       "      <td>Morning</td>\n",
       "    </tr>\n",
       "  </tbody>\n",
       "</table>\n",
       "</div>"
      ],
      "text/plain": [
       "  InvoiceNo         InvoiceDate  CustomerID        Day Seasons Visited_time\n",
       "0    536365 2010-12-01 08:26:00     17850.0  Wednesday  Winter      Morning\n",
       "1    536366 2010-12-01 08:28:00     17850.0  Wednesday  Winter      Morning\n",
       "2    536367 2010-12-01 08:34:00     13047.0  Wednesday  Winter      Morning"
      ]
     },
     "execution_count": 251,
     "metadata": {},
     "output_type": "execute_result"
    }
   ],
   "source": [
    "uk = df[df[\"Country\"] == 'United Kingdom'][['InvoiceNo', 'InvoiceDate','CustomerID', 'Day', 'Seasons', \"Visited_time\"]]\n",
    "uk.head(3)"
   ]
  },
  {
   "cell_type": "code",
   "execution_count": 252,
   "id": "04ac2fff",
   "metadata": {},
   "outputs": [],
   "source": [
    "# No. of invoice generated per day"
   ]
  },
  {
   "cell_type": "code",
   "execution_count": 253,
   "id": "34813100",
   "metadata": {},
   "outputs": [
    {
     "data": {
      "image/png": "[encoded data removed]",
      "text/plain": [
       "<Figure size 1080x288 with 1 Axes>"
      ]
     },
     "metadata": {},
     "output_type": "display_data"
    }
   ],
   "source": [
    "plt.figure(figsize = (15,4))\n",
    "sns.barplot(x = uk['Day'].value_counts().index, y = uk['Day'].value_counts().values)\n",
    "plt.axhline(y = uk['Day'].value_counts().mean())\n",
    "plt.title('No. of invoice generated per day', size = 15)\n",
    "plt.xlabel('Weekdays', size = 13)\n",
    "plt.ylabel('Count', size = 13)\n",
    "plt.show()"
   ]
  },
  {
   "cell_type": "code",
   "execution_count": 254,
   "id": "92336b4a",
   "metadata": {},
   "outputs": [],
   "source": [
    "# No. of invoice generated according to seasons"
   ]
  },
  {
   "cell_type": "code",
   "execution_count": 255,
   "id": "eea65d06",
   "metadata": {},
   "outputs": [
    {
     "data": {
      "image/png": "[encoded data removed]",
      "text/plain": [
       "<Figure size 1080x288 with 1 Axes>"
      ]
     },
     "metadata": {},
     "output_type": "display_data"
    }
   ],
   "source": [
    "plt.figure(figsize = (15,4))\n",
    "sns.barplot(x = uk['Seasons'].value_counts().index, y = uk['Seasons'].value_counts().values)\n",
    "plt.axhline(y = uk['Seasons'].value_counts().mean())\n",
    "plt.title('No. of invoice generated according to seasons', size = 15)\n",
    "plt.xlabel('No. of customers', size = 13)\n",
    "plt.ylabel('count', size = 13)\n",
    "plt.show()"
   ]
  },
  {
   "cell_type": "code",
   "execution_count": 256,
   "id": "54a9b872",
   "metadata": {},
   "outputs": [],
   "source": [
    "# No. of invoice generated by time of the day"
   ]
  },
  {
   "cell_type": "code",
   "execution_count": 257,
   "id": "27e3f718",
   "metadata": {
    "scrolled": false
   },
   "outputs": [
    {
     "data": {
      "image/png": "[encoded data removed]",
      "text/plain": [
       "<Figure size 1080x288 with 1 Axes>"
      ]
     },
     "metadata": {},
     "output_type": "display_data"
    }
   ],
   "source": [
    "plt.figure(figsize = (15,4))\n",
    "sns.barplot(x = uk['Visited_time'].value_counts().index, y = uk['Visited_time'].value_counts().values)\n",
    "plt.axhline(y = uk['Visited_time'].value_counts().mean())\n",
    "plt.title('No. of invoice generated by time of the day', size = 15)\n",
    "plt.xlabel('No. of customers', size = 13)\n",
    "plt.ylabel('count', size = 13)\n",
    "plt.show()"
   ]
  },
  {
   "cell_type": "markdown",
   "id": "52c01241",
   "metadata": {},
   "source": [
    "### Netherlands"
   ]
  },
  {
   "cell_type": "code",
   "execution_count": 258,
   "id": "744099e5",
   "metadata": {},
   "outputs": [
    {
     "data": {
      "text/html": [
       "<div>\n",
       "<style scoped>\n",
       "    .dataframe tbody tr th:only-of-type {\n",
       "        vertical-align: middle;\n",
       "    }\n",
       "\n",
       "    .dataframe tbody tr th {\n",
       "        vertical-align: top;\n",
       "    }\n",
       "\n",
       "    .dataframe thead th {\n",
       "        text-align: right;\n",
       "    }\n",
       "</style>\n",
       "<table border=\"1\" class=\"dataframe\">\n",
       "  <thead>\n",
       "    <tr style=\"text-align: right;\">\n",
       "      <th></th>\n",
       "      <th>InvoiceNo</th>\n",
       "      <th>InvoiceDate</th>\n",
       "      <th>CustomerID</th>\n",
       "      <th>Day</th>\n",
       "      <th>Seasons</th>\n",
       "      <th>Visited_time</th>\n",
       "    </tr>\n",
       "  </thead>\n",
       "  <tbody>\n",
       "    <tr>\n",
       "      <th>0</th>\n",
       "      <td>536365</td>\n",
       "      <td>2010-12-01 08:26:00</td>\n",
       "      <td>17850.0</td>\n",
       "      <td>Wednesday</td>\n",
       "      <td>Winter</td>\n",
       "      <td>Morning</td>\n",
       "    </tr>\n",
       "    <tr>\n",
       "      <th>1</th>\n",
       "      <td>536366</td>\n",
       "      <td>2010-12-01 08:28:00</td>\n",
       "      <td>17850.0</td>\n",
       "      <td>Wednesday</td>\n",
       "      <td>Winter</td>\n",
       "      <td>Morning</td>\n",
       "    </tr>\n",
       "    <tr>\n",
       "      <th>2</th>\n",
       "      <td>536367</td>\n",
       "      <td>2010-12-01 08:34:00</td>\n",
       "      <td>13047.0</td>\n",
       "      <td>Wednesday</td>\n",
       "      <td>Winter</td>\n",
       "      <td>Morning</td>\n",
       "    </tr>\n",
       "  </tbody>\n",
       "</table>\n",
       "</div>"
      ],
      "text/plain": [
       "  InvoiceNo         InvoiceDate  CustomerID        Day Seasons Visited_time\n",
       "0    536365 2010-12-01 08:26:00     17850.0  Wednesday  Winter      Morning\n",
       "1    536366 2010-12-01 08:28:00     17850.0  Wednesday  Winter      Morning\n",
       "2    536367 2010-12-01 08:34:00     13047.0  Wednesday  Winter      Morning"
      ]
     },
     "execution_count": 258,
     "metadata": {},
     "output_type": "execute_result"
    }
   ],
   "source": [
    "Netherlands = df[df[\"Country\"] == 'Netherlands'][['InvoiceNo', 'InvoiceDate','CustomerID', 'Day', 'Seasons', \"Visited_time\"]]\n",
    "uk.head(3)"
   ]
  },
  {
   "cell_type": "code",
   "execution_count": 259,
   "id": "13900dd8",
   "metadata": {},
   "outputs": [],
   "source": [
    "# No. of invoice generated per day"
   ]
  },
  {
   "cell_type": "code",
   "execution_count": 260,
   "id": "e7c4f682",
   "metadata": {},
   "outputs": [
    {
     "data": {
      "image/png": "[encoded data removed]",
      "text/plain": [
       "<Figure size 1080x288 with 1 Axes>"
      ]
     },
     "metadata": {},
     "output_type": "display_data"
    }
   ],
   "source": [
    "plt.figure(figsize = (15,4))\n",
    "sns.barplot(x = Netherlands['Day'].value_counts().index, y = Netherlands['Day'].value_counts().values)\n",
    "plt.axhline(y = Netherlands['Day'].value_counts().mean())\n",
    "plt.title('No. of customers by day', size = 15)\n",
    "plt.xlabel('No. of customers', size = 13)\n",
    "plt.ylabel('count', size = 13)\n",
    "plt.show()"
   ]
  },
  {
   "cell_type": "code",
   "execution_count": 261,
   "id": "39b47d7b",
   "metadata": {},
   "outputs": [],
   "source": [
    "# No. of invoice generated according to seasons"
   ]
  },
  {
   "cell_type": "code",
   "execution_count": 262,
   "id": "3b4fa438",
   "metadata": {},
   "outputs": [
    {
     "data": {
      "image/png": "[encoded data removed]",
      "text/plain": [
       "<Figure size 1080x288 with 1 Axes>"
      ]
     },
     "metadata": {},
     "output_type": "display_data"
    }
   ],
   "source": [
    "plt.figure(figsize = (15,4))\n",
    "sns.barplot(x = Netherlands['Seasons'].value_counts().index, y = Netherlands['Seasons'].value_counts().values)\n",
    "plt.axhline(y = Netherlands['Seasons'].value_counts().mean())\n",
    "plt.title('No. of customers by seasons', size = 15)\n",
    "plt.xlabel('No. of customers', size = 13)\n",
    "plt.ylabel('count', size = 13)\n",
    "plt.show()"
   ]
  },
  {
   "cell_type": "code",
   "execution_count": 263,
   "id": "ad883584",
   "metadata": {},
   "outputs": [],
   "source": [
    "# No. of invoice generated by time of the day"
   ]
  },
  {
   "cell_type": "code",
   "execution_count": 264,
   "id": "e8dc970a",
   "metadata": {
    "scrolled": true
   },
   "outputs": [
    {
     "data": {
      "image/png": "[encoded data removed]",
      "text/plain": [
       "<Figure size 1080x288 with 1 Axes>"
      ]
     },
     "metadata": {},
     "output_type": "display_data"
    }
   ],
   "source": [
    "plt.figure(figsize = (15,4))\n",
    "sns.barplot(x = Netherlands['Visited_time'].value_counts().index, y = Netherlands['Visited_time'].value_counts().values)\n",
    "plt.axhline(y = Netherlands['Visited_time'].value_counts().mean())\n",
    "plt.title('No. of customers by visited_time', size = 15)\n",
    "plt.xlabel('No. of customers', size = 13)\n",
    "plt.ylabel('count', size = 13)\n",
    "plt.show()"
   ]
  },
  {
   "cell_type": "markdown",
   "id": "57c38bc4",
   "metadata": {},
   "source": [
    "### EIRE"
   ]
  },
  {
   "cell_type": "code",
   "execution_count": 265,
   "id": "007e4287",
   "metadata": {},
   "outputs": [
    {
     "data": {
      "text/html": [
       "<div>\n",
       "<style scoped>\n",
       "    .dataframe tbody tr th:only-of-type {\n",
       "        vertical-align: middle;\n",
       "    }\n",
       "\n",
       "    .dataframe tbody tr th {\n",
       "        vertical-align: top;\n",
       "    }\n",
       "\n",
       "    .dataframe thead th {\n",
       "        text-align: right;\n",
       "    }\n",
       "</style>\n",
       "<table border=\"1\" class=\"dataframe\">\n",
       "  <thead>\n",
       "    <tr style=\"text-align: right;\">\n",
       "      <th></th>\n",
       "      <th>InvoiceNo</th>\n",
       "      <th>InvoiceDate</th>\n",
       "      <th>CustomerID</th>\n",
       "      <th>Day</th>\n",
       "      <th>Seasons</th>\n",
       "      <th>Visited_time</th>\n",
       "    </tr>\n",
       "  </thead>\n",
       "  <tbody>\n",
       "    <tr>\n",
       "      <th>0</th>\n",
       "      <td>536365</td>\n",
       "      <td>2010-12-01 08:26:00</td>\n",
       "      <td>17850.0</td>\n",
       "      <td>Wednesday</td>\n",
       "      <td>Winter</td>\n",
       "      <td>Morning</td>\n",
       "    </tr>\n",
       "    <tr>\n",
       "      <th>1</th>\n",
       "      <td>536366</td>\n",
       "      <td>2010-12-01 08:28:00</td>\n",
       "      <td>17850.0</td>\n",
       "      <td>Wednesday</td>\n",
       "      <td>Winter</td>\n",
       "      <td>Morning</td>\n",
       "    </tr>\n",
       "    <tr>\n",
       "      <th>2</th>\n",
       "      <td>536367</td>\n",
       "      <td>2010-12-01 08:34:00</td>\n",
       "      <td>13047.0</td>\n",
       "      <td>Wednesday</td>\n",
       "      <td>Winter</td>\n",
       "      <td>Morning</td>\n",
       "    </tr>\n",
       "  </tbody>\n",
       "</table>\n",
       "</div>"
      ],
      "text/plain": [
       "  InvoiceNo         InvoiceDate  CustomerID        Day Seasons Visited_time\n",
       "0    536365 2010-12-01 08:26:00     17850.0  Wednesday  Winter      Morning\n",
       "1    536366 2010-12-01 08:28:00     17850.0  Wednesday  Winter      Morning\n",
       "2    536367 2010-12-01 08:34:00     13047.0  Wednesday  Winter      Morning"
      ]
     },
     "execution_count": 265,
     "metadata": {},
     "output_type": "execute_result"
    }
   ],
   "source": [
    "EIRE = df[df[\"Country\"] == 'EIRE'][['InvoiceNo', 'InvoiceDate','CustomerID', 'Day', 'Seasons', \"Visited_time\"]]\n",
    "uk.head(3)"
   ]
  },
  {
   "cell_type": "code",
   "execution_count": 266,
   "id": "67ef2dba",
   "metadata": {},
   "outputs": [],
   "source": [
    "# No. of invoice generated per day"
   ]
  },
  {
   "cell_type": "code",
   "execution_count": 267,
   "id": "642503ce",
   "metadata": {},
   "outputs": [
    {
     "data": {
      "image/png": "[encoded data removed]",
      "text/plain": [
       "<Figure size 1080x288 with 1 Axes>"
      ]
     },
     "metadata": {},
     "output_type": "display_data"
    }
   ],
   "source": [
    "plt.figure(figsize = (15,4))\n",
    "sns.barplot(x = EIRE['Day'].value_counts().index, y = EIRE['Day'].value_counts().values)\n",
    "plt.axhline(y = EIRE['Day'].value_counts().mean())\n",
    "plt.title('No. of customers by day', size = 15)\n",
    "plt.xlabel('No. of customers', size = 13)\n",
    "plt.ylabel('count', size = 13)\n",
    "plt.show()"
   ]
  },
  {
   "cell_type": "code",
   "execution_count": 268,
   "id": "d3ae458c",
   "metadata": {},
   "outputs": [],
   "source": [
    "# No. of invoice generated according to seasons"
   ]
  },
  {
   "cell_type": "code",
   "execution_count": 269,
   "id": "53bf3669",
   "metadata": {},
   "outputs": [
    {
     "data": {
      "image/png": "[encoded data removed]",
      "text/plain": [
       "<Figure size 1080x288 with 1 Axes>"
      ]
     },
     "metadata": {},
     "output_type": "display_data"
    }
   ],
   "source": [
    "plt.figure(figsize = (15,4))\n",
    "sns.barplot(x = EIRE['Seasons'].value_counts().index, y = EIRE['Seasons'].value_counts().values)\n",
    "plt.axhline(y = EIRE['Seasons'].value_counts().mean())\n",
    "plt.title('No. of customers by seasons', size = 15)\n",
    "plt.xlabel('No. of customers', size = 13)\n",
    "plt.ylabel('count', size = 13)\n",
    "plt.show()"
   ]
  },
  {
   "cell_type": "code",
   "execution_count": 270,
   "id": "dab78e07",
   "metadata": {},
   "outputs": [],
   "source": [
    "# No. of invoice generated by time of the day"
   ]
  },
  {
   "cell_type": "code",
   "execution_count": 271,
   "id": "5fdf7d65",
   "metadata": {
    "scrolled": false
   },
   "outputs": [
    {
     "data": {
      "image/png": "[encoded data removed]",
      "text/plain": [
       "<Figure size 1080x288 with 1 Axes>"
      ]
     },
     "metadata": {},
     "output_type": "display_data"
    }
   ],
   "source": [
    "plt.figure(figsize = (15,4))\n",
    "sns.barplot(x = EIRE['Visited_time'].value_counts().index, y = EIRE['Visited_time'].value_counts().values)\n",
    "plt.axhline(y = EIRE['Visited_time'].value_counts().mean())\n",
    "plt.title('No. of customers by visited_time', size = 15)\n",
    "plt.xlabel('No. of customers', size = 13)\n",
    "plt.ylabel('count', size = 13)\n",
    "plt.show()"
   ]
  },
  {
   "cell_type": "markdown",
   "id": "d75e438f",
   "metadata": {},
   "source": [
    "## Conclusion\n",
    "\n",
    "- With the help of K-means clustering we've differentiated customers into six different categories which are as follows:\n",
    "  - Total number of inactive customers : 817 nos.\n",
    "  - Total number of customers belongs to at-risk category : 897 nos.\n",
    "  - Total number of customers belongs to nurture category : 714 nos.\n",
    "  - Total number of customers belongs to target upshell category : 1046 nos.\n",
    "  - Total number of promising customers : 839 nos.\n",
    "  - Total number of customers belong to drive loyalty category : 59 nos.\n",
    "  \n",
    " - Need to pay attention to the customers who belong to at risk category as there are chances of losing them\n",
    " \n",
    " - Also, need to pay attention to the customers who belong to nurture category\n",
    " \n",
    " \n",
    "- List of top 5 selling products\n",
    "  - Paper Craft , Little Birdie\n",
    "  - Medium Ceramic Top Storage Jar\n",
    "  - Asstd Design 3d Paper Stickers\n",
    "  - World War 2 Gliders Asstd Designs \n",
    "  - Small Popcorn Holder\n",
    "  \n",
    "\n",
    "- High number of customers prefer to visit shopping mall during day time period (i.e btwn Morning to Afternoon)\n",
    "\n",
    "\n",
    "- Most of the people prefer to visit shopping mall on Thursday and followed by Wednesday & Tuesday"
   ]
  }
 ],
 "metadata": {
  "kernelspec": {
   "display_name": "Python 3 (ipykernel)",
   "language": "python",
   "name": "python3"
  },
  "language_info": {
   "codemirror_mode": {
    "name": "ipython",
    "version": 3
   },
   "file_extension": ".py",
   "mimetype": "text/x-python",
   "name": "python",
   "nbconvert_exporter": "python",
   "pygments_lexer": "ipython3",
   "version": "3.9.12"
  }
 },
 "nbformat": 4,
 "nbformat_minor": 5
}
